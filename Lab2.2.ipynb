{
 "cells": [
  {
   "cell_type": "code",
   "execution_count": 1,
   "id": "cd781fb0-232b-4279-957a-7872a9c34d23",
   "metadata": {},
   "outputs": [],
   "source": [
    "import polars as pl"
   ]
  },
  {
   "cell_type": "markdown",
   "id": "b73c25b7-4708-4716-96cb-e28c7f49a3fc",
   "metadata": {},
   "source": [
    "# Gold Glove"
   ]
  },
  {
   "cell_type": "code",
   "execution_count": 2,
   "id": "9203fdb0-eefd-4f1d-80c9-8145cfd77e00",
   "metadata": {},
   "outputs": [
    {
     "data": {
      "text/html": [
       "<div><style>\n",
       ".dataframe > thead > tr,\n",
       ".dataframe > tbody > tr {\n",
       "  text-align: right;\n",
       "  white-space: pre-wrap;\n",
       "}\n",
       "</style>\n",
       "<small>shape: (6_797, 6)</small><table border=\"1\" class=\"dataframe\"><thead><tr><th>playerID</th><th>awardID</th><th>yearID</th><th>lgID</th><th>tie</th><th>notes</th></tr><tr><td>str</td><td>str</td><td>i64</td><td>str</td><td>str</td><td>str</td></tr></thead><tbody><tr><td>&quot;poseybu01&quot;</td><td>&quot;Lou Gehrig Memorial Award&quot;</td><td>2019</td><td>&quot;ML&quot;</td><td>null</td><td>null</td></tr><tr><td>&quot;klubeco01&quot;</td><td>&quot;Lou Gehrig Memorial Award&quot;</td><td>2018</td><td>&quot;ML&quot;</td><td>null</td><td>null</td></tr><tr><td>&quot;vottojo01&quot;</td><td>&quot;Lou Gehrig Memorial Award&quot;</td><td>2017</td><td>&quot;ML&quot;</td><td>null</td><td>null</td></tr><tr><td>&quot;altuvjo01&quot;</td><td>&quot;Lou Gehrig Memorial Award&quot;</td><td>2016</td><td>&quot;ML&quot;</td><td>null</td><td>null</td></tr><tr><td>&quot;grandcu01&quot;</td><td>&quot;Lou Gehrig Memorial Award&quot;</td><td>2015</td><td>&quot;ML&quot;</td><td>null</td><td>null</td></tr><tr><td>&hellip;</td><td>&hellip;</td><td>&hellip;</td><td>&hellip;</td><td>&hellip;</td><td>&hellip;</td></tr><tr><td>&quot;barnhtu01&quot;</td><td>&quot;Gold Glove&quot;</td><td>2017</td><td>&quot;NL&quot;</td><td>null</td><td>&quot;C&quot;</td></tr><tr><td>&quot;goldspa01&quot;</td><td>&quot;Gold Glove&quot;</td><td>2017</td><td>&quot;NL&quot;</td><td>null</td><td>&quot;1B&quot;</td></tr><tr><td>&quot;lemahdj01&quot;</td><td>&quot;Gold Glove&quot;</td><td>2017</td><td>&quot;NL&quot;</td><td>null</td><td>&quot;2B&quot;</td></tr><tr><td>&quot;arenano01&quot;</td><td>&quot;Gold Glove&quot;</td><td>2017</td><td>&quot;NL&quot;</td><td>null</td><td>&quot;3B&quot;</td></tr><tr><td>&quot;crawfbr01&quot;</td><td>&quot;Gold Glove&quot;</td><td>2017</td><td>&quot;NL&quot;</td><td>null</td><td>&quot;SS&quot;</td></tr></tbody></table></div>"
      ],
      "text/plain": [
       "shape: (6_797, 6)\n",
       "┌───────────┬───────────────────────────┬────────┬──────┬──────┬───────┐\n",
       "│ playerID  ┆ awardID                   ┆ yearID ┆ lgID ┆ tie  ┆ notes │\n",
       "│ ---       ┆ ---                       ┆ ---    ┆ ---  ┆ ---  ┆ ---   │\n",
       "│ str       ┆ str                       ┆ i64    ┆ str  ┆ str  ┆ str   │\n",
       "╞═══════════╪═══════════════════════════╪════════╪══════╪══════╪═══════╡\n",
       "│ poseybu01 ┆ Lou Gehrig Memorial Award ┆ 2019   ┆ ML   ┆ null ┆ null  │\n",
       "│ klubeco01 ┆ Lou Gehrig Memorial Award ┆ 2018   ┆ ML   ┆ null ┆ null  │\n",
       "│ vottojo01 ┆ Lou Gehrig Memorial Award ┆ 2017   ┆ ML   ┆ null ┆ null  │\n",
       "│ altuvjo01 ┆ Lou Gehrig Memorial Award ┆ 2016   ┆ ML   ┆ null ┆ null  │\n",
       "│ grandcu01 ┆ Lou Gehrig Memorial Award ┆ 2015   ┆ ML   ┆ null ┆ null  │\n",
       "│ …         ┆ …                         ┆ …      ┆ …    ┆ …    ┆ …     │\n",
       "│ barnhtu01 ┆ Gold Glove                ┆ 2017   ┆ NL   ┆ null ┆ C     │\n",
       "│ goldspa01 ┆ Gold Glove                ┆ 2017   ┆ NL   ┆ null ┆ 1B    │\n",
       "│ lemahdj01 ┆ Gold Glove                ┆ 2017   ┆ NL   ┆ null ┆ 2B    │\n",
       "│ arenano01 ┆ Gold Glove                ┆ 2017   ┆ NL   ┆ null ┆ 3B    │\n",
       "│ crawfbr01 ┆ Gold Glove                ┆ 2017   ┆ NL   ┆ null ┆ SS    │\n",
       "└───────────┴───────────────────────────┴────────┴──────┴──────┴───────┘"
      ]
     },
     "execution_count": 2,
     "metadata": {},
     "output_type": "execute_result"
    }
   ],
   "source": [
    "awards = pl.read_csv('./Data/lahman_1871-2023_csv/AwardsPlayers.csv')\n",
    "awards"
   ]
  },
  {
   "cell_type": "code",
   "execution_count": 3,
   "id": "476bd633-98e6-42db-a457-77331d7edec1",
   "metadata": {},
   "outputs": [
    {
     "data": {
      "text/html": [
       "<div><style>\n",
       ".dataframe > thead > tr,\n",
       ".dataframe > tbody > tr {\n",
       "  text-align: right;\n",
       "  white-space: pre-wrap;\n",
       "}\n",
       "</style>\n",
       "<small>shape: (5, 18)</small><table border=\"1\" class=\"dataframe\"><thead><tr><th>playerID</th><th>yearID</th><th>stint</th><th>teamID</th><th>lgID</th><th>POS</th><th>G</th><th>GS</th><th>InnOuts</th><th>PO</th><th>A</th><th>E</th><th>DP</th><th>PB</th><th>WP</th><th>SB</th><th>CS</th><th>ZR</th></tr><tr><td>str</td><td>i64</td><td>i64</td><td>str</td><td>str</td><td>str</td><td>i64</td><td>i64</td><td>i64</td><td>i64</td><td>i64</td><td>i64</td><td>i64</td><td>str</td><td>str</td><td>str</td><td>str</td><td>str</td></tr></thead><tbody><tr><td>&quot;aardsda01&quot;</td><td>2004</td><td>1</td><td>&quot;SFN&quot;</td><td>&quot;NL&quot;</td><td>&quot;P&quot;</td><td>11</td><td>0</td><td>32</td><td>0</td><td>0</td><td>0</td><td>0</td><td>null</td><td>null</td><td>null</td><td>null</td><td>null</td></tr><tr><td>&quot;aardsda01&quot;</td><td>2006</td><td>1</td><td>&quot;CHN&quot;</td><td>&quot;NL&quot;</td><td>&quot;P&quot;</td><td>45</td><td>0</td><td>159</td><td>1</td><td>5</td><td>0</td><td>1</td><td>null</td><td>null</td><td>null</td><td>null</td><td>null</td></tr><tr><td>&quot;aardsda01&quot;</td><td>2007</td><td>1</td><td>&quot;CHA&quot;</td><td>&quot;AL&quot;</td><td>&quot;P&quot;</td><td>25</td><td>0</td><td>97</td><td>2</td><td>4</td><td>1</td><td>0</td><td>null</td><td>null</td><td>null</td><td>null</td><td>null</td></tr><tr><td>&quot;aardsda01&quot;</td><td>2008</td><td>1</td><td>&quot;BOS&quot;</td><td>&quot;AL&quot;</td><td>&quot;P&quot;</td><td>47</td><td>0</td><td>146</td><td>3</td><td>6</td><td>0</td><td>0</td><td>null</td><td>null</td><td>null</td><td>null</td><td>null</td></tr><tr><td>&quot;aardsda01&quot;</td><td>2009</td><td>1</td><td>&quot;SEA&quot;</td><td>&quot;AL&quot;</td><td>&quot;P&quot;</td><td>73</td><td>0</td><td>214</td><td>2</td><td>5</td><td>0</td><td>1</td><td>null</td><td>null</td><td>null</td><td>null</td><td>null</td></tr></tbody></table></div>"
      ],
      "text/plain": [
       "shape: (5, 18)\n",
       "┌───────────┬────────┬───────┬────────┬───┬──────┬──────┬──────┬──────┐\n",
       "│ playerID  ┆ yearID ┆ stint ┆ teamID ┆ … ┆ WP   ┆ SB   ┆ CS   ┆ ZR   │\n",
       "│ ---       ┆ ---    ┆ ---   ┆ ---    ┆   ┆ ---  ┆ ---  ┆ ---  ┆ ---  │\n",
       "│ str       ┆ i64    ┆ i64   ┆ str    ┆   ┆ str  ┆ str  ┆ str  ┆ str  │\n",
       "╞═══════════╪════════╪═══════╪════════╪═══╪══════╪══════╪══════╪══════╡\n",
       "│ aardsda01 ┆ 2004   ┆ 1     ┆ SFN    ┆ … ┆ null ┆ null ┆ null ┆ null │\n",
       "│ aardsda01 ┆ 2006   ┆ 1     ┆ CHN    ┆ … ┆ null ┆ null ┆ null ┆ null │\n",
       "│ aardsda01 ┆ 2007   ┆ 1     ┆ CHA    ┆ … ┆ null ┆ null ┆ null ┆ null │\n",
       "│ aardsda01 ┆ 2008   ┆ 1     ┆ BOS    ┆ … ┆ null ┆ null ┆ null ┆ null │\n",
       "│ aardsda01 ┆ 2009   ┆ 1     ┆ SEA    ┆ … ┆ null ┆ null ┆ null ┆ null │\n",
       "└───────────┴────────┴───────┴────────┴───┴──────┴──────┴──────┴──────┘"
      ]
     },
     "execution_count": 3,
     "metadata": {},
     "output_type": "execute_result"
    }
   ],
   "source": [
    "fielding = pl.read_csv('./Data/lahman_1871-2023_csv/Fielding.csv')\n",
    "fielding.head()"
   ]
  },
  {
   "cell_type": "code",
   "execution_count": 4,
   "id": "b7857e11-80ca-4ce2-b56f-e4863165b5fb",
   "metadata": {},
   "outputs": [
    {
     "data": {
      "text/html": [
       "<div><style>\n",
       ".dataframe > thead > tr,\n",
       ".dataframe > tbody > tr {\n",
       "  text-align: right;\n",
       "  white-space: pre-wrap;\n",
       "}\n",
       "</style>\n",
       "<small>shape: (872, 7)</small><table border=\"1\" class=\"dataframe\"><thead><tr><th>playerID</th><th>awardID</th><th>yearID</th><th>lgID</th><th>tie</th><th>POS</th><th>Gold_Glove</th></tr><tr><td>str</td><td>str</td><td>i64</td><td>str</td><td>str</td><td>str</td><td>str</td></tr></thead><tbody><tr><td>&quot;poseybu01&quot;</td><td>&quot;Lou Gehrig Memorial Award&quot;</td><td>2019</td><td>&quot;ML&quot;</td><td>null</td><td>null</td><td>&quot;No&quot;</td></tr><tr><td>&quot;klubeco01&quot;</td><td>&quot;Lou Gehrig Memorial Award&quot;</td><td>2018</td><td>&quot;ML&quot;</td><td>null</td><td>null</td><td>&quot;No&quot;</td></tr><tr><td>&quot;vottojo01&quot;</td><td>&quot;Lou Gehrig Memorial Award&quot;</td><td>2017</td><td>&quot;ML&quot;</td><td>null</td><td>null</td><td>&quot;No&quot;</td></tr><tr><td>&quot;altuvjo01&quot;</td><td>&quot;Lou Gehrig Memorial Award&quot;</td><td>2016</td><td>&quot;ML&quot;</td><td>null</td><td>null</td><td>&quot;No&quot;</td></tr><tr><td>&quot;grandcu01&quot;</td><td>&quot;Lou Gehrig Memorial Award&quot;</td><td>2015</td><td>&quot;ML&quot;</td><td>null</td><td>null</td><td>&quot;No&quot;</td></tr><tr><td>&hellip;</td><td>&hellip;</td><td>&hellip;</td><td>&hellip;</td><td>&hellip;</td><td>&hellip;</td><td>&hellip;</td></tr><tr><td>&quot;barnhtu01&quot;</td><td>&quot;Gold Glove&quot;</td><td>2017</td><td>&quot;NL&quot;</td><td>null</td><td>&quot;C&quot;</td><td>&quot;Yes&quot;</td></tr><tr><td>&quot;goldspa01&quot;</td><td>&quot;Gold Glove&quot;</td><td>2017</td><td>&quot;NL&quot;</td><td>null</td><td>&quot;1B&quot;</td><td>&quot;Yes&quot;</td></tr><tr><td>&quot;lemahdj01&quot;</td><td>&quot;Gold Glove&quot;</td><td>2017</td><td>&quot;NL&quot;</td><td>null</td><td>&quot;2B&quot;</td><td>&quot;Yes&quot;</td></tr><tr><td>&quot;arenano01&quot;</td><td>&quot;Gold Glove&quot;</td><td>2017</td><td>&quot;NL&quot;</td><td>null</td><td>&quot;3B&quot;</td><td>&quot;Yes&quot;</td></tr><tr><td>&quot;crawfbr01&quot;</td><td>&quot;Gold Glove&quot;</td><td>2017</td><td>&quot;NL&quot;</td><td>null</td><td>&quot;SS&quot;</td><td>&quot;Yes&quot;</td></tr></tbody></table></div>"
      ],
      "text/plain": [
       "shape: (872, 7)\n",
       "┌───────────┬───────────────────────────┬────────┬──────┬──────┬──────┬────────────┐\n",
       "│ playerID  ┆ awardID                   ┆ yearID ┆ lgID ┆ tie  ┆ POS  ┆ Gold_Glove │\n",
       "│ ---       ┆ ---                       ┆ ---    ┆ ---  ┆ ---  ┆ ---  ┆ ---        │\n",
       "│ str       ┆ str                       ┆ i64    ┆ str  ┆ str  ┆ str  ┆ str        │\n",
       "╞═══════════╪═══════════════════════════╪════════╪══════╪══════╪══════╪════════════╡\n",
       "│ poseybu01 ┆ Lou Gehrig Memorial Award ┆ 2019   ┆ ML   ┆ null ┆ null ┆ No         │\n",
       "│ klubeco01 ┆ Lou Gehrig Memorial Award ┆ 2018   ┆ ML   ┆ null ┆ null ┆ No         │\n",
       "│ vottojo01 ┆ Lou Gehrig Memorial Award ┆ 2017   ┆ ML   ┆ null ┆ null ┆ No         │\n",
       "│ altuvjo01 ┆ Lou Gehrig Memorial Award ┆ 2016   ┆ ML   ┆ null ┆ null ┆ No         │\n",
       "│ grandcu01 ┆ Lou Gehrig Memorial Award ┆ 2015   ┆ ML   ┆ null ┆ null ┆ No         │\n",
       "│ …         ┆ …                         ┆ …      ┆ …    ┆ …    ┆ …    ┆ …          │\n",
       "│ barnhtu01 ┆ Gold Glove                ┆ 2017   ┆ NL   ┆ null ┆ C    ┆ Yes        │\n",
       "│ goldspa01 ┆ Gold Glove                ┆ 2017   ┆ NL   ┆ null ┆ 1B   ┆ Yes        │\n",
       "│ lemahdj01 ┆ Gold Glove                ┆ 2017   ┆ NL   ┆ null ┆ 2B   ┆ Yes        │\n",
       "│ arenano01 ┆ Gold Glove                ┆ 2017   ┆ NL   ┆ null ┆ 3B   ┆ Yes        │\n",
       "│ crawfbr01 ┆ Gold Glove                ┆ 2017   ┆ NL   ┆ null ┆ SS   ┆ Yes        │\n",
       "└───────────┴───────────────────────────┴────────┴──────┴──────┴──────┴────────────┘"
      ]
     },
     "execution_count": 4,
     "metadata": {},
     "output_type": "execute_result"
    }
   ],
   "source": [
    "awards = (awards\n",
    " .filter(pl.col('yearID') >= 2013)\n",
    " .with_columns(Gold_Glove = pl.when(pl.col('awardID') == 'Gold Glove')\n",
    "                              .then(pl.lit('Yes'))\n",
    "                              .otherwise(pl.lit('No')))\n",
    " .rename({'notes' : 'POS'})\n",
    "          \n",
    ")\n",
    "awards"
   ]
  },
  {
   "cell_type": "code",
   "execution_count": 5,
   "id": "c848b861-e569-4531-b0e2-36cfa68e45ac",
   "metadata": {},
   "outputs": [
    {
     "data": {
      "text/html": [
       "<div><style>\n",
       ".dataframe > thead > tr,\n",
       ".dataframe > tbody > tr {\n",
       "  text-align: right;\n",
       "  white-space: pre-wrap;\n",
       "}\n",
       "</style>\n",
       "<small>shape: (21_356, 16)</small><table border=\"1\" class=\"dataframe\"><thead><tr><th>playerID</th><th>yearID</th><th>lgID</th><th>POS</th><th>G</th><th>GS</th><th>InnOuts</th><th>PO</th><th>A</th><th>E</th><th>DP</th><th>PB</th><th>WP</th><th>SB</th><th>CS</th><th>ZR</th></tr><tr><td>str</td><td>i64</td><td>str</td><td>str</td><td>i64</td><td>i64</td><td>i64</td><td>i64</td><td>i64</td><td>i64</td><td>i64</td><td>str</td><td>str</td><td>str</td><td>str</td><td>str</td></tr></thead><tbody><tr><td>&quot;bettsmo01&quot;</td><td>2021</td><td>&quot;NL&quot;</td><td>&quot;2B&quot;</td><td>7</td><td>5</td><td>138</td><td>6</td><td>9</td><td>0</td><td>3</td><td>null</td><td>null</td><td>null</td><td>null</td><td>null</td></tr><tr><td>&quot;junkja01&quot;</td><td>2023</td><td>&quot;NL&quot;</td><td>&quot;P&quot;</td><td>2</td><td>1</td><td>22</td><td>2</td><td>0</td><td>0</td><td>0</td><td>null</td><td>null</td><td>null</td><td>null</td><td>null</td></tr><tr><td>&quot;morofma01&quot;</td><td>2017</td><td>&quot;NL&quot;</td><td>&quot;SS&quot;</td><td>16</td><td>10</td><td>324</td><td>13</td><td>42</td><td>0</td><td>4</td><td>null</td><td>null</td><td>null</td><td>null</td><td>null</td></tr><tr><td>&quot;roberni01&quot;</td><td>2023</td><td>&quot;AL&quot;</td><td>&quot;P&quot;</td><td>9</td><td>1</td><td>36</td><td>2</td><td>2</td><td>0</td><td>0</td><td>null</td><td>null</td><td>null</td><td>null</td><td>null</td></tr><tr><td>&quot;pearcst01&quot;</td><td>2018</td><td>&quot;AL&quot;</td><td>&quot;OF&quot;</td><td>15</td><td>9</td><td>237</td><td>18</td><td>0</td><td>0</td><td>0</td><td>null</td><td>null</td><td>null</td><td>null</td><td>null</td></tr><tr><td>&hellip;</td><td>&hellip;</td><td>&hellip;</td><td>&hellip;</td><td>&hellip;</td><td>&hellip;</td><td>&hellip;</td><td>&hellip;</td><td>&hellip;</td><td>&hellip;</td><td>&hellip;</td><td>&hellip;</td><td>&hellip;</td><td>&hellip;</td><td>&hellip;</td><td>&hellip;</td></tr><tr><td>&quot;gotttr01&quot;</td><td>2019</td><td>&quot;NL&quot;</td><td>&quot;P&quot;</td><td>50</td><td>0</td><td>158</td><td>2</td><td>5</td><td>0</td><td>0</td><td>null</td><td>null</td><td>null</td><td>null</td><td>null</td></tr><tr><td>&quot;teagata01&quot;</td><td>2014</td><td>&quot;NL&quot;</td><td>&quot;C&quot;</td><td>9</td><td>8</td><td>216</td><td>54</td><td>6</td><td>0</td><td>0</td><td>null</td><td>null</td><td>null</td><td>null</td><td>null</td></tr><tr><td>&quot;barrefr02&quot;</td><td>2020</td><td>&quot;AL&quot;</td><td>&quot;2B&quot;</td><td>6</td><td>3</td><td>81</td><td>4</td><td>7</td><td>0</td><td>1</td><td>null</td><td>null</td><td>null</td><td>null</td><td>null</td></tr><tr><td>&quot;hoffmje02&quot;</td><td>2020</td><td>&quot;NL&quot;</td><td>&quot;P&quot;</td><td>16</td><td>0</td><td>64</td><td>1</td><td>1</td><td>0</td><td>1</td><td>null</td><td>null</td><td>null</td><td>null</td><td>null</td></tr><tr><td>&quot;weberry01&quot;</td><td>2015</td><td>&quot;NL&quot;</td><td>&quot;P&quot;</td><td>5</td><td>5</td><td>85</td><td>5</td><td>4</td><td>1</td><td>1</td><td>null</td><td>null</td><td>null</td><td>null</td><td>null</td></tr></tbody></table></div>"
      ],
      "text/plain": [
       "shape: (21_356, 16)\n",
       "┌───────────┬────────┬──────┬─────┬───┬──────┬──────┬──────┬──────┐\n",
       "│ playerID  ┆ yearID ┆ lgID ┆ POS ┆ … ┆ WP   ┆ SB   ┆ CS   ┆ ZR   │\n",
       "│ ---       ┆ ---    ┆ ---  ┆ --- ┆   ┆ ---  ┆ ---  ┆ ---  ┆ ---  │\n",
       "│ str       ┆ i64    ┆ str  ┆ str ┆   ┆ str  ┆ str  ┆ str  ┆ str  │\n",
       "╞═══════════╪════════╪══════╪═════╪═══╪══════╪══════╪══════╪══════╡\n",
       "│ bettsmo01 ┆ 2021   ┆ NL   ┆ 2B  ┆ … ┆ null ┆ null ┆ null ┆ null │\n",
       "│ junkja01  ┆ 2023   ┆ NL   ┆ P   ┆ … ┆ null ┆ null ┆ null ┆ null │\n",
       "│ morofma01 ┆ 2017   ┆ NL   ┆ SS  ┆ … ┆ null ┆ null ┆ null ┆ null │\n",
       "│ roberni01 ┆ 2023   ┆ AL   ┆ P   ┆ … ┆ null ┆ null ┆ null ┆ null │\n",
       "│ pearcst01 ┆ 2018   ┆ AL   ┆ OF  ┆ … ┆ null ┆ null ┆ null ┆ null │\n",
       "│ …         ┆ …      ┆ …    ┆ …   ┆ … ┆ …    ┆ …    ┆ …    ┆ …    │\n",
       "│ gotttr01  ┆ 2019   ┆ NL   ┆ P   ┆ … ┆ null ┆ null ┆ null ┆ null │\n",
       "│ teagata01 ┆ 2014   ┆ NL   ┆ C   ┆ … ┆ null ┆ null ┆ null ┆ null │\n",
       "│ barrefr02 ┆ 2020   ┆ AL   ┆ 2B  ┆ … ┆ null ┆ null ┆ null ┆ null │\n",
       "│ hoffmje02 ┆ 2020   ┆ NL   ┆ P   ┆ … ┆ null ┆ null ┆ null ┆ null │\n",
       "│ weberry01 ┆ 2015   ┆ NL   ┆ P   ┆ … ┆ null ┆ null ┆ null ┆ null │\n",
       "└───────────┴────────┴──────┴─────┴───┴──────┴──────┴──────┴──────┘"
      ]
     },
     "execution_count": 5,
     "metadata": {},
     "output_type": "execute_result"
    }
   ],
   "source": [
    "fielding = (fielding\n",
    " .filter(pl.col('yearID') >= 2013)\n",
    " .group_by(pl.col('playerID'), pl.col('yearID'), pl.col('lgID'), pl.col('POS'))\n",
    " .agg([pl.col('G').sum(), pl.col('GS').sum(), pl.col('InnOuts').sum(), pl.col('PO').sum(),\n",
    "      pl.col('A').sum(), pl.col('E').sum(), pl.col('DP').sum(), pl.col('PB').sum(),\n",
    "      pl.col('WP').sum(), pl.col('SB').sum(), pl.col('CS').sum(), pl.col('ZR').sum()])\n",
    ")\n",
    "fielding"
   ]
  },
  {
   "cell_type": "code",
   "execution_count": 6,
   "id": "af8be71d-9281-4de1-a775-3fed9fb01d2b",
   "metadata": {},
   "outputs": [
    {
     "data": {
      "text/html": [
       "<div><style>\n",
       ".dataframe > thead > tr,\n",
       ".dataframe > tbody > tr {\n",
       "  text-align: right;\n",
       "  white-space: pre-wrap;\n",
       "}\n",
       "</style>\n",
       "<small>shape: (21_482, 20)</small><table border=\"1\" class=\"dataframe\"><thead><tr><th>playerID</th><th>yearID</th><th>lgID</th><th>POS</th><th>G</th><th>GS</th><th>InnOuts</th><th>PO</th><th>A</th><th>E</th><th>DP</th><th>PB</th><th>WP</th><th>SB</th><th>CS</th><th>ZR</th><th>awardID</th><th>tie</th><th>Gold_Glove</th><th>Training_Validation</th></tr><tr><td>str</td><td>i64</td><td>str</td><td>str</td><td>i64</td><td>i64</td><td>i64</td><td>i64</td><td>i64</td><td>i64</td><td>i64</td><td>str</td><td>str</td><td>str</td><td>str</td><td>str</td><td>str</td><td>str</td><td>str</td><td>str</td></tr></thead><tbody><tr><td>&quot;bettsmo01&quot;</td><td>2021</td><td>&quot;NL&quot;</td><td>&quot;2B&quot;</td><td>7</td><td>5</td><td>138</td><td>6</td><td>9</td><td>0</td><td>3</td><td>null</td><td>null</td><td>null</td><td>null</td><td>null</td><td>null</td><td>null</td><td>null</td><td>&quot;Training&quot;</td></tr><tr><td>&quot;junkja01&quot;</td><td>2023</td><td>&quot;NL&quot;</td><td>&quot;P&quot;</td><td>2</td><td>1</td><td>22</td><td>2</td><td>0</td><td>0</td><td>0</td><td>null</td><td>null</td><td>null</td><td>null</td><td>null</td><td>null</td><td>null</td><td>null</td><td>&quot;Validation&quot;</td></tr><tr><td>&quot;morofma01&quot;</td><td>2017</td><td>&quot;NL&quot;</td><td>&quot;SS&quot;</td><td>16</td><td>10</td><td>324</td><td>13</td><td>42</td><td>0</td><td>4</td><td>null</td><td>null</td><td>null</td><td>null</td><td>null</td><td>null</td><td>null</td><td>null</td><td>&quot;Training&quot;</td></tr><tr><td>&quot;roberni01&quot;</td><td>2023</td><td>&quot;AL&quot;</td><td>&quot;P&quot;</td><td>9</td><td>1</td><td>36</td><td>2</td><td>2</td><td>0</td><td>0</td><td>null</td><td>null</td><td>null</td><td>null</td><td>null</td><td>null</td><td>null</td><td>null</td><td>&quot;Validation&quot;</td></tr><tr><td>&quot;pearcst01&quot;</td><td>2018</td><td>&quot;AL&quot;</td><td>&quot;OF&quot;</td><td>15</td><td>9</td><td>237</td><td>18</td><td>0</td><td>0</td><td>0</td><td>null</td><td>null</td><td>null</td><td>null</td><td>null</td><td>null</td><td>null</td><td>null</td><td>&quot;Training&quot;</td></tr><tr><td>&hellip;</td><td>&hellip;</td><td>&hellip;</td><td>&hellip;</td><td>&hellip;</td><td>&hellip;</td><td>&hellip;</td><td>&hellip;</td><td>&hellip;</td><td>&hellip;</td><td>&hellip;</td><td>&hellip;</td><td>&hellip;</td><td>&hellip;</td><td>&hellip;</td><td>&hellip;</td><td>&hellip;</td><td>&hellip;</td><td>&hellip;</td><td>&hellip;</td></tr><tr><td>&quot;gotttr01&quot;</td><td>2019</td><td>&quot;NL&quot;</td><td>&quot;P&quot;</td><td>50</td><td>0</td><td>158</td><td>2</td><td>5</td><td>0</td><td>0</td><td>null</td><td>null</td><td>null</td><td>null</td><td>null</td><td>null</td><td>null</td><td>null</td><td>&quot;Training&quot;</td></tr><tr><td>&quot;teagata01&quot;</td><td>2014</td><td>&quot;NL&quot;</td><td>&quot;C&quot;</td><td>9</td><td>8</td><td>216</td><td>54</td><td>6</td><td>0</td><td>0</td><td>null</td><td>null</td><td>null</td><td>null</td><td>null</td><td>null</td><td>null</td><td>null</td><td>&quot;Training&quot;</td></tr><tr><td>&quot;barrefr02&quot;</td><td>2020</td><td>&quot;AL&quot;</td><td>&quot;2B&quot;</td><td>6</td><td>3</td><td>81</td><td>4</td><td>7</td><td>0</td><td>1</td><td>null</td><td>null</td><td>null</td><td>null</td><td>null</td><td>null</td><td>null</td><td>null</td><td>&quot;Training&quot;</td></tr><tr><td>&quot;hoffmje02&quot;</td><td>2020</td><td>&quot;NL&quot;</td><td>&quot;P&quot;</td><td>16</td><td>0</td><td>64</td><td>1</td><td>1</td><td>0</td><td>1</td><td>null</td><td>null</td><td>null</td><td>null</td><td>null</td><td>null</td><td>null</td><td>null</td><td>&quot;Training&quot;</td></tr><tr><td>&quot;weberry01&quot;</td><td>2015</td><td>&quot;NL&quot;</td><td>&quot;P&quot;</td><td>5</td><td>5</td><td>85</td><td>5</td><td>4</td><td>1</td><td>1</td><td>null</td><td>null</td><td>null</td><td>null</td><td>null</td><td>null</td><td>null</td><td>null</td><td>&quot;Training&quot;</td></tr></tbody></table></div>"
      ],
      "text/plain": [
       "shape: (21_482, 20)\n",
       "┌───────────┬────────┬──────┬─────┬───┬─────────┬──────┬────────────┬─────────────────────┐\n",
       "│ playerID  ┆ yearID ┆ lgID ┆ POS ┆ … ┆ awardID ┆ tie  ┆ Gold_Glove ┆ Training_Validation │\n",
       "│ ---       ┆ ---    ┆ ---  ┆ --- ┆   ┆ ---     ┆ ---  ┆ ---        ┆ ---                 │\n",
       "│ str       ┆ i64    ┆ str  ┆ str ┆   ┆ str     ┆ str  ┆ str        ┆ str                 │\n",
       "╞═══════════╪════════╪══════╪═════╪═══╪═════════╪══════╪════════════╪═════════════════════╡\n",
       "│ bettsmo01 ┆ 2021   ┆ NL   ┆ 2B  ┆ … ┆ null    ┆ null ┆ null       ┆ Training            │\n",
       "│ junkja01  ┆ 2023   ┆ NL   ┆ P   ┆ … ┆ null    ┆ null ┆ null       ┆ Validation          │\n",
       "│ morofma01 ┆ 2017   ┆ NL   ┆ SS  ┆ … ┆ null    ┆ null ┆ null       ┆ Training            │\n",
       "│ roberni01 ┆ 2023   ┆ AL   ┆ P   ┆ … ┆ null    ┆ null ┆ null       ┆ Validation          │\n",
       "│ pearcst01 ┆ 2018   ┆ AL   ┆ OF  ┆ … ┆ null    ┆ null ┆ null       ┆ Training            │\n",
       "│ …         ┆ …      ┆ …    ┆ …   ┆ … ┆ …       ┆ …    ┆ …          ┆ …                   │\n",
       "│ gotttr01  ┆ 2019   ┆ NL   ┆ P   ┆ … ┆ null    ┆ null ┆ null       ┆ Training            │\n",
       "│ teagata01 ┆ 2014   ┆ NL   ┆ C   ┆ … ┆ null    ┆ null ┆ null       ┆ Training            │\n",
       "│ barrefr02 ┆ 2020   ┆ AL   ┆ 2B  ┆ … ┆ null    ┆ null ┆ null       ┆ Training            │\n",
       "│ hoffmje02 ┆ 2020   ┆ NL   ┆ P   ┆ … ┆ null    ┆ null ┆ null       ┆ Training            │\n",
       "│ weberry01 ┆ 2015   ┆ NL   ┆ P   ┆ … ┆ null    ┆ null ┆ null       ┆ Training            │\n",
       "└───────────┴────────┴──────┴─────┴───┴─────────┴──────┴────────────┴─────────────────────┘"
      ]
     },
     "execution_count": 6,
     "metadata": {},
     "output_type": "execute_result"
    }
   ],
   "source": [
    "(fielding\n",
    " .join(awards, on=['playerID', 'yearID', 'lgID', 'POS'], how='left')\n",
    " .with_columns(Training_Validation = pl.when(pl.col('yearID') == 2023)\n",
    "                                       .then(pl.lit('Validation'))\n",
    "                                       .otherwise(pl.lit('Training')))\n",
    ")"
   ]
  },
  {
   "cell_type": "markdown",
   "id": "bac9e86f-7947-4dd5-b375-08f418eae1d3",
   "metadata": {},
   "source": [
    "# Salary"
   ]
  },
  {
   "cell_type": "code",
   "execution_count": 92,
   "id": "d70ffb52-d7ae-4231-b968-2c5a0714f915",
   "metadata": {},
   "outputs": [
    {
     "data": {
      "text/html": [
       "<div><style>\n",
       ".dataframe > thead > tr,\n",
       ".dataframe > tbody > tr {\n",
       "  text-align: right;\n",
       "  white-space: pre-wrap;\n",
       "}\n",
       "</style>\n",
       "<small>shape: (5, 5)</small><table border=\"1\" class=\"dataframe\"><thead><tr><th>yearID</th><th>teamID</th><th>lgID</th><th>playerID</th><th>salary</th></tr><tr><td>i64</td><td>str</td><td>str</td><td>str</td><td>i64</td></tr></thead><tbody><tr><td>1985</td><td>&quot;ATL&quot;</td><td>&quot;NL&quot;</td><td>&quot;barkele01&quot;</td><td>870000</td></tr><tr><td>1985</td><td>&quot;ATL&quot;</td><td>&quot;NL&quot;</td><td>&quot;bedrost01&quot;</td><td>550000</td></tr><tr><td>1985</td><td>&quot;ATL&quot;</td><td>&quot;NL&quot;</td><td>&quot;benedbr01&quot;</td><td>545000</td></tr><tr><td>1985</td><td>&quot;ATL&quot;</td><td>&quot;NL&quot;</td><td>&quot;campri01&quot;</td><td>633333</td></tr><tr><td>1985</td><td>&quot;ATL&quot;</td><td>&quot;NL&quot;</td><td>&quot;ceronri01&quot;</td><td>625000</td></tr></tbody></table></div>"
      ],
      "text/plain": [
       "shape: (5, 5)\n",
       "┌────────┬────────┬──────┬───────────┬────────┐\n",
       "│ yearID ┆ teamID ┆ lgID ┆ playerID  ┆ salary │\n",
       "│ ---    ┆ ---    ┆ ---  ┆ ---       ┆ ---    │\n",
       "│ i64    ┆ str    ┆ str  ┆ str       ┆ i64    │\n",
       "╞════════╪════════╪══════╪═══════════╪════════╡\n",
       "│ 1985   ┆ ATL    ┆ NL   ┆ barkele01 ┆ 870000 │\n",
       "│ 1985   ┆ ATL    ┆ NL   ┆ bedrost01 ┆ 550000 │\n",
       "│ 1985   ┆ ATL    ┆ NL   ┆ benedbr01 ┆ 545000 │\n",
       "│ 1985   ┆ ATL    ┆ NL   ┆ campri01  ┆ 633333 │\n",
       "│ 1985   ┆ ATL    ┆ NL   ┆ ceronri01 ┆ 625000 │\n",
       "└────────┴────────┴──────┴───────────┴────────┘"
      ]
     },
     "execution_count": 92,
     "metadata": {},
     "output_type": "execute_result"
    }
   ],
   "source": [
    "salaries = pl.read_csv('./Data/lahman_1871-2023_csv/Salaries.csv')\n",
    "salaries.head()"
   ]
  },
  {
   "cell_type": "code",
   "execution_count": 93,
   "id": "b8d6ec60-ca6b-4169-b91c-dc5828acc1da",
   "metadata": {},
   "outputs": [
    {
     "data": {
      "text/html": [
       "<div><style>\n",
       ".dataframe > thead > tr,\n",
       ".dataframe > tbody > tr {\n",
       "  text-align: right;\n",
       "  white-space: pre-wrap;\n",
       "}\n",
       "</style>\n",
       "<small>shape: (5, 24)</small><table border=\"1\" class=\"dataframe\"><thead><tr><th>playerID</th><th>yearID</th><th>stint</th><th>teamID</th><th>lgID</th><th>G</th><th>G_batting</th><th>AB</th><th>R</th><th>H</th><th>2B</th><th>3B</th><th>HR</th><th>RBI</th><th>SB</th><th>CS</th><th>BB</th><th>SO</th><th>IBB</th><th>HBP</th><th>SH</th><th>SF</th><th>GIDP</th><th>G_old</th></tr><tr><td>str</td><td>i64</td><td>i64</td><td>str</td><td>str</td><td>i64</td><td>i64</td><td>i64</td><td>i64</td><td>i64</td><td>i64</td><td>i64</td><td>i64</td><td>i64</td><td>i64</td><td>i64</td><td>i64</td><td>i64</td><td>i64</td><td>i64</td><td>i64</td><td>i64</td><td>i64</td><td>str</td></tr></thead><tbody><tr><td>&quot;aardsda01&quot;</td><td>2004</td><td>1</td><td>&quot;SFN&quot;</td><td>&quot;NL&quot;</td><td>11</td><td>null</td><td>0</td><td>0</td><td>0</td><td>0</td><td>0</td><td>0</td><td>0</td><td>0</td><td>0</td><td>0</td><td>0</td><td>0</td><td>0</td><td>0</td><td>0</td><td>0</td><td>null</td></tr><tr><td>&quot;aardsda01&quot;</td><td>2006</td><td>1</td><td>&quot;CHN&quot;</td><td>&quot;NL&quot;</td><td>45</td><td>null</td><td>2</td><td>0</td><td>0</td><td>0</td><td>0</td><td>0</td><td>0</td><td>0</td><td>0</td><td>0</td><td>0</td><td>0</td><td>0</td><td>1</td><td>0</td><td>0</td><td>null</td></tr><tr><td>&quot;aardsda01&quot;</td><td>2007</td><td>1</td><td>&quot;CHA&quot;</td><td>&quot;AL&quot;</td><td>25</td><td>null</td><td>0</td><td>0</td><td>0</td><td>0</td><td>0</td><td>0</td><td>0</td><td>0</td><td>0</td><td>0</td><td>0</td><td>0</td><td>0</td><td>0</td><td>0</td><td>0</td><td>null</td></tr><tr><td>&quot;aardsda01&quot;</td><td>2008</td><td>1</td><td>&quot;BOS&quot;</td><td>&quot;AL&quot;</td><td>47</td><td>null</td><td>1</td><td>0</td><td>0</td><td>0</td><td>0</td><td>0</td><td>0</td><td>0</td><td>0</td><td>0</td><td>1</td><td>0</td><td>0</td><td>0</td><td>0</td><td>0</td><td>null</td></tr><tr><td>&quot;aardsda01&quot;</td><td>2009</td><td>1</td><td>&quot;SEA&quot;</td><td>&quot;AL&quot;</td><td>73</td><td>null</td><td>0</td><td>0</td><td>0</td><td>0</td><td>0</td><td>0</td><td>0</td><td>0</td><td>0</td><td>0</td><td>0</td><td>0</td><td>0</td><td>0</td><td>0</td><td>0</td><td>null</td></tr></tbody></table></div>"
      ],
      "text/plain": [
       "shape: (5, 24)\n",
       "┌───────────┬────────┬───────┬────────┬───┬─────┬─────┬──────┬───────┐\n",
       "│ playerID  ┆ yearID ┆ stint ┆ teamID ┆ … ┆ SH  ┆ SF  ┆ GIDP ┆ G_old │\n",
       "│ ---       ┆ ---    ┆ ---   ┆ ---    ┆   ┆ --- ┆ --- ┆ ---  ┆ ---   │\n",
       "│ str       ┆ i64    ┆ i64   ┆ str    ┆   ┆ i64 ┆ i64 ┆ i64  ┆ str   │\n",
       "╞═══════════╪════════╪═══════╪════════╪═══╪═════╪═════╪══════╪═══════╡\n",
       "│ aardsda01 ┆ 2004   ┆ 1     ┆ SFN    ┆ … ┆ 0   ┆ 0   ┆ 0    ┆ null  │\n",
       "│ aardsda01 ┆ 2006   ┆ 1     ┆ CHN    ┆ … ┆ 1   ┆ 0   ┆ 0    ┆ null  │\n",
       "│ aardsda01 ┆ 2007   ┆ 1     ┆ CHA    ┆ … ┆ 0   ┆ 0   ┆ 0    ┆ null  │\n",
       "│ aardsda01 ┆ 2008   ┆ 1     ┆ BOS    ┆ … ┆ 0   ┆ 0   ┆ 0    ┆ null  │\n",
       "│ aardsda01 ┆ 2009   ┆ 1     ┆ SEA    ┆ … ┆ 0   ┆ 0   ┆ 0    ┆ null  │\n",
       "└───────────┴────────┴───────┴────────┴───┴─────┴─────┴──────┴───────┘"
      ]
     },
     "execution_count": 93,
     "metadata": {},
     "output_type": "execute_result"
    }
   ],
   "source": [
    "batting = pl.read_csv('./Data/lahman_1871-2023_csv/Batting.csv')\n",
    "batting.head()"
   ]
  },
  {
   "cell_type": "code",
   "execution_count": 94,
   "id": "247bf0c8-6c52-4777-9bf5-85bce1b49db4",
   "metadata": {},
   "outputs": [
    {
     "data": {
      "text/html": [
       "<div><style>\n",
       ".dataframe > thead > tr,\n",
       ".dataframe > tbody > tr {\n",
       "  text-align: right;\n",
       "  white-space: pre-wrap;\n",
       "}\n",
       "</style>\n",
       "<small>shape: (5, 30)</small><table border=\"1\" class=\"dataframe\"><thead><tr><th>playerID</th><th>yearID</th><th>stint</th><th>teamID</th><th>lgID</th><th>W</th><th>L</th><th>G</th><th>GS</th><th>CG</th><th>SHO</th><th>SV</th><th>IPouts</th><th>H</th><th>ER</th><th>HR</th><th>BB</th><th>SO</th><th>BAOpp</th><th>ERA</th><th>IBB</th><th>WP</th><th>HBP</th><th>BK</th><th>BFP</th><th>GF</th><th>R</th><th>SH</th><th>SF</th><th>GIDP</th></tr><tr><td>str</td><td>i64</td><td>i64</td><td>str</td><td>str</td><td>i64</td><td>i64</td><td>i64</td><td>i64</td><td>i64</td><td>i64</td><td>i64</td><td>i64</td><td>i64</td><td>i64</td><td>i64</td><td>i64</td><td>i64</td><td>f64</td><td>f64</td><td>i64</td><td>i64</td><td>i64</td><td>i64</td><td>i64</td><td>i64</td><td>i64</td><td>i64</td><td>i64</td><td>i64</td></tr></thead><tbody><tr><td>&quot;aardsda01&quot;</td><td>2004</td><td>1</td><td>&quot;SFN&quot;</td><td>&quot;NL&quot;</td><td>1</td><td>0</td><td>11</td><td>0</td><td>0</td><td>0</td><td>0</td><td>32</td><td>20</td><td>8</td><td>1</td><td>10</td><td>5</td><td>0.417</td><td>6.75</td><td>0</td><td>0</td><td>2</td><td>0</td><td>61</td><td>5</td><td>8</td><td>0</td><td>1</td><td>1</td></tr><tr><td>&quot;aardsda01&quot;</td><td>2006</td><td>1</td><td>&quot;CHN&quot;</td><td>&quot;NL&quot;</td><td>3</td><td>0</td><td>45</td><td>0</td><td>0</td><td>0</td><td>0</td><td>159</td><td>41</td><td>24</td><td>9</td><td>28</td><td>49</td><td>0.214</td><td>4.08</td><td>0</td><td>1</td><td>1</td><td>0</td><td>225</td><td>9</td><td>25</td><td>1</td><td>3</td><td>2</td></tr><tr><td>&quot;aardsda01&quot;</td><td>2007</td><td>1</td><td>&quot;CHA&quot;</td><td>&quot;AL&quot;</td><td>2</td><td>1</td><td>25</td><td>0</td><td>0</td><td>0</td><td>0</td><td>97</td><td>39</td><td>23</td><td>4</td><td>17</td><td>36</td><td>0.3</td><td>6.4</td><td>3</td><td>2</td><td>1</td><td>0</td><td>151</td><td>7</td><td>24</td><td>2</td><td>1</td><td>1</td></tr><tr><td>&quot;aardsda01&quot;</td><td>2008</td><td>1</td><td>&quot;BOS&quot;</td><td>&quot;AL&quot;</td><td>4</td><td>2</td><td>47</td><td>0</td><td>0</td><td>0</td><td>0</td><td>146</td><td>49</td><td>30</td><td>4</td><td>35</td><td>49</td><td>0.268</td><td>5.55</td><td>2</td><td>3</td><td>5</td><td>0</td><td>228</td><td>7</td><td>32</td><td>3</td><td>2</td><td>4</td></tr><tr><td>&quot;aardsda01&quot;</td><td>2009</td><td>1</td><td>&quot;SEA&quot;</td><td>&quot;AL&quot;</td><td>3</td><td>6</td><td>73</td><td>0</td><td>0</td><td>0</td><td>38</td><td>214</td><td>49</td><td>20</td><td>4</td><td>34</td><td>80</td><td>0.19</td><td>2.52</td><td>3</td><td>2</td><td>0</td><td>0</td><td>296</td><td>53</td><td>23</td><td>2</td><td>1</td><td>2</td></tr></tbody></table></div>"
      ],
      "text/plain": [
       "shape: (5, 30)\n",
       "┌───────────┬────────┬───────┬────────┬───┬─────┬─────┬─────┬──────┐\n",
       "│ playerID  ┆ yearID ┆ stint ┆ teamID ┆ … ┆ R   ┆ SH  ┆ SF  ┆ GIDP │\n",
       "│ ---       ┆ ---    ┆ ---   ┆ ---    ┆   ┆ --- ┆ --- ┆ --- ┆ ---  │\n",
       "│ str       ┆ i64    ┆ i64   ┆ str    ┆   ┆ i64 ┆ i64 ┆ i64 ┆ i64  │\n",
       "╞═══════════╪════════╪═══════╪════════╪═══╪═════╪═════╪═════╪══════╡\n",
       "│ aardsda01 ┆ 2004   ┆ 1     ┆ SFN    ┆ … ┆ 8   ┆ 0   ┆ 1   ┆ 1    │\n",
       "│ aardsda01 ┆ 2006   ┆ 1     ┆ CHN    ┆ … ┆ 25  ┆ 1   ┆ 3   ┆ 2    │\n",
       "│ aardsda01 ┆ 2007   ┆ 1     ┆ CHA    ┆ … ┆ 24  ┆ 2   ┆ 1   ┆ 1    │\n",
       "│ aardsda01 ┆ 2008   ┆ 1     ┆ BOS    ┆ … ┆ 32  ┆ 3   ┆ 2   ┆ 4    │\n",
       "│ aardsda01 ┆ 2009   ┆ 1     ┆ SEA    ┆ … ┆ 23  ┆ 2   ┆ 1   ┆ 2    │\n",
       "└───────────┴────────┴───────┴────────┴───┴─────┴─────┴─────┴──────┘"
      ]
     },
     "execution_count": 94,
     "metadata": {},
     "output_type": "execute_result"
    }
   ],
   "source": [
    "pitching = pl.read_csv('./Data/lahman_1871-2023_csv/Pitching.csv')\n",
    "pitching.head()"
   ]
  },
  {
   "cell_type": "code",
   "execution_count": 95,
   "id": "0b4fedcb-7277-4b6b-b8e2-111fb18eb99b",
   "metadata": {},
   "outputs": [
    {
     "data": {
      "text/html": [
       "<div><style>\n",
       ".dataframe > thead > tr,\n",
       ".dataframe > tbody > tr {\n",
       "  text-align: right;\n",
       "  white-space: pre-wrap;\n",
       "}\n",
       "</style>\n",
       "<small>shape: (5, 18)</small><table border=\"1\" class=\"dataframe\"><thead><tr><th>playerID</th><th>yearID</th><th>stint</th><th>teamID</th><th>lgID</th><th>POS</th><th>G</th><th>GS</th><th>InnOuts</th><th>PO</th><th>A</th><th>E</th><th>DP</th><th>PB</th><th>WP</th><th>SB</th><th>CS</th><th>ZR</th></tr><tr><td>str</td><td>i64</td><td>i64</td><td>str</td><td>str</td><td>str</td><td>i64</td><td>i64</td><td>i64</td><td>i64</td><td>i64</td><td>i64</td><td>i64</td><td>str</td><td>str</td><td>str</td><td>str</td><td>str</td></tr></thead><tbody><tr><td>&quot;aardsda01&quot;</td><td>2004</td><td>1</td><td>&quot;SFN&quot;</td><td>&quot;NL&quot;</td><td>&quot;P&quot;</td><td>11</td><td>0</td><td>32</td><td>0</td><td>0</td><td>0</td><td>0</td><td>null</td><td>null</td><td>null</td><td>null</td><td>null</td></tr><tr><td>&quot;aardsda01&quot;</td><td>2006</td><td>1</td><td>&quot;CHN&quot;</td><td>&quot;NL&quot;</td><td>&quot;P&quot;</td><td>45</td><td>0</td><td>159</td><td>1</td><td>5</td><td>0</td><td>1</td><td>null</td><td>null</td><td>null</td><td>null</td><td>null</td></tr><tr><td>&quot;aardsda01&quot;</td><td>2007</td><td>1</td><td>&quot;CHA&quot;</td><td>&quot;AL&quot;</td><td>&quot;P&quot;</td><td>25</td><td>0</td><td>97</td><td>2</td><td>4</td><td>1</td><td>0</td><td>null</td><td>null</td><td>null</td><td>null</td><td>null</td></tr><tr><td>&quot;aardsda01&quot;</td><td>2008</td><td>1</td><td>&quot;BOS&quot;</td><td>&quot;AL&quot;</td><td>&quot;P&quot;</td><td>47</td><td>0</td><td>146</td><td>3</td><td>6</td><td>0</td><td>0</td><td>null</td><td>null</td><td>null</td><td>null</td><td>null</td></tr><tr><td>&quot;aardsda01&quot;</td><td>2009</td><td>1</td><td>&quot;SEA&quot;</td><td>&quot;AL&quot;</td><td>&quot;P&quot;</td><td>73</td><td>0</td><td>214</td><td>2</td><td>5</td><td>0</td><td>1</td><td>null</td><td>null</td><td>null</td><td>null</td><td>null</td></tr></tbody></table></div>"
      ],
      "text/plain": [
       "shape: (5, 18)\n",
       "┌───────────┬────────┬───────┬────────┬───┬──────┬──────┬──────┬──────┐\n",
       "│ playerID  ┆ yearID ┆ stint ┆ teamID ┆ … ┆ WP   ┆ SB   ┆ CS   ┆ ZR   │\n",
       "│ ---       ┆ ---    ┆ ---   ┆ ---    ┆   ┆ ---  ┆ ---  ┆ ---  ┆ ---  │\n",
       "│ str       ┆ i64    ┆ i64   ┆ str    ┆   ┆ str  ┆ str  ┆ str  ┆ str  │\n",
       "╞═══════════╪════════╪═══════╪════════╪═══╪══════╪══════╪══════╪══════╡\n",
       "│ aardsda01 ┆ 2004   ┆ 1     ┆ SFN    ┆ … ┆ null ┆ null ┆ null ┆ null │\n",
       "│ aardsda01 ┆ 2006   ┆ 1     ┆ CHN    ┆ … ┆ null ┆ null ┆ null ┆ null │\n",
       "│ aardsda01 ┆ 2007   ┆ 1     ┆ CHA    ┆ … ┆ null ┆ null ┆ null ┆ null │\n",
       "│ aardsda01 ┆ 2008   ┆ 1     ┆ BOS    ┆ … ┆ null ┆ null ┆ null ┆ null │\n",
       "│ aardsda01 ┆ 2009   ┆ 1     ┆ SEA    ┆ … ┆ null ┆ null ┆ null ┆ null │\n",
       "└───────────┴────────┴───────┴────────┴───┴──────┴──────┴──────┴──────┘"
      ]
     },
     "execution_count": 95,
     "metadata": {},
     "output_type": "execute_result"
    }
   ],
   "source": [
    "fielding = pl.read_csv('./Data/lahman_1871-2023_csv/Fielding.csv')\n",
    "fielding.head()"
   ]
  },
  {
   "cell_type": "code",
   "execution_count": 96,
   "id": "a51a52d4-fcc3-41b1-9223-2805e3c2eb5f",
   "metadata": {},
   "outputs": [
    {
     "data": {
      "text/html": [
       "<div><style>\n",
       ".dataframe > thead > tr,\n",
       ".dataframe > tbody > tr {\n",
       "  text-align: right;\n",
       "  white-space: pre-wrap;\n",
       "}\n",
       "</style>\n",
       "<small>shape: (9_131, 3)</small><table border=\"1\" class=\"dataframe\"><thead><tr><th>playerID</th><th>yearID</th><th>salary</th></tr><tr><td>str</td><td>i64</td><td>i64</td></tr></thead><tbody><tr><td>&quot;coraal01&quot;</td><td>2008</td><td>2000000</td></tr><tr><td>&quot;jacobmi02&quot;</td><td>2008</td><td>395000</td></tr><tr><td>&quot;huch01&quot;</td><td>2008</td><td>390000</td></tr><tr><td>&quot;rossco01&quot;</td><td>2009</td><td>2225000</td></tr><tr><td>&quot;morsemi01&quot;</td><td>2010</td><td>410000</td></tr><tr><td>&hellip;</td><td>&hellip;</td><td>&hellip;</td></tr><tr><td>&quot;dillati01&quot;</td><td>2012</td><td>482000</td></tr><tr><td>&quot;rizzoan01&quot;</td><td>2014</td><td>1250000</td></tr><tr><td>&quot;machaal01&quot;</td><td>2007</td><td>380000</td></tr><tr><td>&quot;lidgebr01&quot;</td><td>2011</td><td>12000000</td></tr><tr><td>&quot;espinda01&quot;</td><td>2014</td><td>540580</td></tr></tbody></table></div>"
      ],
      "text/plain": [
       "shape: (9_131, 3)\n",
       "┌───────────┬────────┬──────────┐\n",
       "│ playerID  ┆ yearID ┆ salary   │\n",
       "│ ---       ┆ ---    ┆ ---      │\n",
       "│ str       ┆ i64    ┆ i64      │\n",
       "╞═══════════╪════════╪══════════╡\n",
       "│ coraal01  ┆ 2008   ┆ 2000000  │\n",
       "│ jacobmi02 ┆ 2008   ┆ 395000   │\n",
       "│ huch01    ┆ 2008   ┆ 390000   │\n",
       "│ rossco01  ┆ 2009   ┆ 2225000  │\n",
       "│ morsemi01 ┆ 2010   ┆ 410000   │\n",
       "│ …         ┆ …      ┆ …        │\n",
       "│ dillati01 ┆ 2012   ┆ 482000   │\n",
       "│ rizzoan01 ┆ 2014   ┆ 1250000  │\n",
       "│ machaal01 ┆ 2007   ┆ 380000   │\n",
       "│ lidgebr01 ┆ 2011   ┆ 12000000 │\n",
       "│ espinda01 ┆ 2014   ┆ 540580   │\n",
       "└───────────┴────────┴──────────┘"
      ]
     },
     "execution_count": 96,
     "metadata": {},
     "output_type": "execute_result"
    }
   ],
   "source": [
    "salaries = (salaries\n",
    "    .filter(pl.col('yearID') >= 2006)\n",
    "    .group_by(pl.col('playerID'), pl.col('yearID'))\n",
    "    .agg(pl.col('salary').sum())\n",
    "            \n",
    ")\n",
    "salaries"
   ]
  },
  {
   "cell_type": "code",
   "execution_count": 97,
   "id": "a2475abe-6379-4728-a4ed-63e250f8d4dd",
   "metadata": {},
   "outputs": [
    {
     "data": {
      "text/html": [
       "<div><style>\n",
       ".dataframe > thead > tr,\n",
       ".dataframe > tbody > tr {\n",
       "  text-align: right;\n",
       "  white-space: pre-wrap;\n",
       "}\n",
       "</style>\n",
       "<small>shape: (5, 22)</small><table border=\"1\" class=\"dataframe\"><thead><tr><th>playerID</th><th>yearID</th><th>stint</th><th>G</th><th>G_batting</th><th>AB</th><th>R</th><th>H</th><th>2B</th><th>3B</th><th>HR</th><th>RBI</th><th>SB</th><th>CS</th><th>BB</th><th>SO</th><th>IBB</th><th>HBP</th><th>SH</th><th>SF</th><th>GIDP</th><th>G_old</th></tr><tr><td>str</td><td>i64</td><td>i64</td><td>i64</td><td>i64</td><td>i64</td><td>i64</td><td>i64</td><td>i64</td><td>i64</td><td>i64</td><td>i64</td><td>i64</td><td>i64</td><td>i64</td><td>i64</td><td>i64</td><td>i64</td><td>i64</td><td>i64</td><td>i64</td><td>str</td></tr></thead><tbody><tr><td>&quot;vanslsc01&quot;</td><td>2013</td><td>1</td><td>53</td><td>0</td><td>129</td><td>13</td><td>31</td><td>8</td><td>0</td><td>7</td><td>19</td><td>1</td><td>1</td><td>20</td><td>37</td><td>0</td><td>1</td><td>0</td><td>2</td><td>7</td><td>null</td></tr><tr><td>&quot;freesda01&quot;</td><td>2013</td><td>1</td><td>138</td><td>0</td><td>462</td><td>53</td><td>121</td><td>26</td><td>1</td><td>9</td><td>60</td><td>1</td><td>2</td><td>47</td><td>106</td><td>1</td><td>9</td><td>0</td><td>3</td><td>25</td><td>null</td></tr><tr><td>&quot;cabremi01&quot;</td><td>2023</td><td>1</td><td>98</td><td>98</td><td>334</td><td>21</td><td>86</td><td>20</td><td>0</td><td>4</td><td>34</td><td>0</td><td>0</td><td>31</td><td>74</td><td>0</td><td>2</td><td>0</td><td>3</td><td>11</td><td>null</td></tr><tr><td>&quot;bowmama01&quot;</td><td>2016</td><td>1</td><td>59</td><td>0</td><td>1</td><td>0</td><td>0</td><td>0</td><td>0</td><td>0</td><td>0</td><td>0</td><td>0</td><td>0</td><td>1</td><td>0</td><td>0</td><td>1</td><td>0</td><td>0</td><td>null</td></tr><tr><td>&quot;gileske01&quot;</td><td>2022</td><td>1</td><td>5</td><td>0</td><td>0</td><td>0</td><td>0</td><td>0</td><td>0</td><td>0</td><td>0</td><td>0</td><td>0</td><td>0</td><td>0</td><td>0</td><td>0</td><td>0</td><td>0</td><td>0</td><td>null</td></tr></tbody></table></div>"
      ],
      "text/plain": [
       "shape: (5, 22)\n",
       "┌───────────┬────────┬───────┬─────┬───┬─────┬─────┬──────┬───────┐\n",
       "│ playerID  ┆ yearID ┆ stint ┆ G   ┆ … ┆ SH  ┆ SF  ┆ GIDP ┆ G_old │\n",
       "│ ---       ┆ ---    ┆ ---   ┆ --- ┆   ┆ --- ┆ --- ┆ ---  ┆ ---   │\n",
       "│ str       ┆ i64    ┆ i64   ┆ i64 ┆   ┆ i64 ┆ i64 ┆ i64  ┆ str   │\n",
       "╞═══════════╪════════╪═══════╪═════╪═══╪═════╪═════╪══════╪═══════╡\n",
       "│ vanslsc01 ┆ 2013   ┆ 1     ┆ 53  ┆ … ┆ 0   ┆ 2   ┆ 7    ┆ null  │\n",
       "│ freesda01 ┆ 2013   ┆ 1     ┆ 138 ┆ … ┆ 0   ┆ 3   ┆ 25   ┆ null  │\n",
       "│ cabremi01 ┆ 2023   ┆ 1     ┆ 98  ┆ … ┆ 0   ┆ 3   ┆ 11   ┆ null  │\n",
       "│ bowmama01 ┆ 2016   ┆ 1     ┆ 59  ┆ … ┆ 1   ┆ 0   ┆ 0    ┆ null  │\n",
       "│ gileske01 ┆ 2022   ┆ 1     ┆ 5   ┆ … ┆ 0   ┆ 0   ┆ 0    ┆ null  │\n",
       "└───────────┴────────┴───────┴─────┴───┴─────┴─────┴──────┴───────┘"
      ]
     },
     "execution_count": 97,
     "metadata": {},
     "output_type": "execute_result"
    }
   ],
   "source": [
    "batting = (batting\n",
    "    .filter(pl.col('yearID') >= 2006)\n",
    "    .group_by(pl.col('playerID'), pl.col('yearID'))\n",
    "    .agg([pl.col('stint').sum(),\n",
    "          pl.col('G').sum(),\n",
    "          pl.col('G_batting').sum(),\n",
    "          pl.col('AB').sum(),\n",
    "          pl.col('R').sum(),\n",
    "          pl.col('H').sum(),\n",
    "          pl.col('2B').sum(),\n",
    "          pl.col('3B').sum(),\n",
    "          pl.col('HR').sum(),\n",
    "          pl.col('RBI').sum(),\n",
    "          pl.col('SB').sum(),\n",
    "          pl.col('CS').sum(),\n",
    "          pl.col('BB').sum(),\n",
    "          pl.col('SO').sum(),\n",
    "          pl.col('IBB').sum(),\n",
    "          pl.col('HBP').sum(),\n",
    "          pl.col('SH').sum(),\n",
    "          pl.col('SF').sum(),\n",
    "          pl.col('GIDP').sum(),\n",
    "          pl.col('G_old').sum(),\n",
    "         ])\n",
    ")\n",
    "batting.head()"
   ]
  },
  {
   "cell_type": "code",
   "execution_count": 98,
   "id": "5b9fecab-6a21-4f6e-8e3d-fde6a9033af1",
   "metadata": {},
   "outputs": [
    {
     "data": {
      "text/html": [
       "<div><style>\n",
       ".dataframe > thead > tr,\n",
       ".dataframe > tbody > tr {\n",
       "  text-align: right;\n",
       "  white-space: pre-wrap;\n",
       "}\n",
       "</style>\n",
       "<small>shape: (5, 28)</small><table border=\"1\" class=\"dataframe\"><thead><tr><th>playerID</th><th>yearID</th><th>stint</th><th>W</th><th>L</th><th>G</th><th>GS</th><th>CG</th><th>SHO</th><th>SV</th><th>IPouts</th><th>H</th><th>ER</th><th>HR</th><th>BB</th><th>SO</th><th>BAOpp</th><th>ERA</th><th>IBB</th><th>WP</th><th>HBP</th><th>BK</th><th>BFP</th><th>GF</th><th>R</th><th>SH</th><th>SF</th><th>GIDP</th></tr><tr><td>str</td><td>i64</td><td>i64</td><td>i64</td><td>i64</td><td>i64</td><td>i64</td><td>i64</td><td>i64</td><td>i64</td><td>i64</td><td>i64</td><td>i64</td><td>i64</td><td>i64</td><td>i64</td><td>f64</td><td>f64</td><td>i64</td><td>i64</td><td>i64</td><td>i64</td><td>i64</td><td>i64</td><td>i64</td><td>i64</td><td>i64</td><td>i64</td></tr></thead><tbody><tr><td>&quot;cormila01&quot;</td><td>2007</td><td>1</td><td>2</td><td>6</td><td>10</td><td>9</td><td>0</td><td>0</td><td>0</td><td>137</td><td>56</td><td>36</td><td>16</td><td>22</td><td>27</td><td>0.303</td><td>7.09</td><td>3</td><td>4</td><td>0</td><td>0</td><td>210</td><td>1</td><td>38</td><td>3</td><td>0</td><td>6</td></tr><tr><td>&quot;garrebr01&quot;</td><td>2023</td><td>1</td><td>9</td><td>7</td><td>31</td><td>30</td><td>0</td><td>0</td><td>0</td><td>479</td><td>154</td><td>65</td><td>20</td><td>29</td><td>156</td><td>0.25</td><td>3.66</td><td>0</td><td>4</td><td>11</td><td>0</td><td>659</td><td>1</td><td>68</td><td>0</td><td>2</td><td>12</td></tr><tr><td>&quot;patinlu01&quot;</td><td>2023</td><td>3</td><td>0</td><td>1</td><td>9</td><td>1</td><td>0</td><td>0</td><td>0</td><td>65</td><td>21</td><td>11</td><td>3</td><td>14</td><td>18</td><td>0.529</td><td>12.57</td><td>0</td><td>2</td><td>0</td><td>0</td><td>99</td><td>2</td><td>12</td><td>0</td><td>0</td><td>1</td></tr><tr><td>&quot;jennida01&quot;</td><td>2017</td><td>3</td><td>3</td><td>1</td><td>77</td><td>0</td><td>0</td><td>0</td><td>0</td><td>188</td><td>53</td><td>24</td><td>8</td><td>31</td><td>51</td><td>0.472</td><td>6.89</td><td>7</td><td>3</td><td>1</td><td>0</td><td>267</td><td>12</td><td>27</td><td>0</td><td>1</td><td>8</td></tr><tr><td>&quot;millesh01&quot;</td><td>2017</td><td>1</td><td>2</td><td>2</td><td>4</td><td>4</td><td>0</td><td>0</td><td>0</td><td>66</td><td>20</td><td>10</td><td>1</td><td>12</td><td>20</td><td>0.23</td><td>4.09</td><td>1</td><td>1</td><td>0</td><td>1</td><td>99</td><td>0</td><td>10</td><td>0</td><td>0</td><td>2</td></tr></tbody></table></div>"
      ],
      "text/plain": [
       "shape: (5, 28)\n",
       "┌───────────┬────────┬───────┬─────┬───┬─────┬─────┬─────┬──────┐\n",
       "│ playerID  ┆ yearID ┆ stint ┆ W   ┆ … ┆ R   ┆ SH  ┆ SF  ┆ GIDP │\n",
       "│ ---       ┆ ---    ┆ ---   ┆ --- ┆   ┆ --- ┆ --- ┆ --- ┆ ---  │\n",
       "│ str       ┆ i64    ┆ i64   ┆ i64 ┆   ┆ i64 ┆ i64 ┆ i64 ┆ i64  │\n",
       "╞═══════════╪════════╪═══════╪═════╪═══╪═════╪═════╪═════╪══════╡\n",
       "│ cormila01 ┆ 2007   ┆ 1     ┆ 2   ┆ … ┆ 38  ┆ 3   ┆ 0   ┆ 6    │\n",
       "│ garrebr01 ┆ 2023   ┆ 1     ┆ 9   ┆ … ┆ 68  ┆ 0   ┆ 2   ┆ 12   │\n",
       "│ patinlu01 ┆ 2023   ┆ 3     ┆ 0   ┆ … ┆ 12  ┆ 0   ┆ 0   ┆ 1    │\n",
       "│ jennida01 ┆ 2017   ┆ 3     ┆ 3   ┆ … ┆ 27  ┆ 0   ┆ 1   ┆ 8    │\n",
       "│ millesh01 ┆ 2017   ┆ 1     ┆ 2   ┆ … ┆ 10  ┆ 0   ┆ 0   ┆ 2    │\n",
       "└───────────┴────────┴───────┴─────┴───┴─────┴─────┴─────┴──────┘"
      ]
     },
     "execution_count": 98,
     "metadata": {},
     "output_type": "execute_result"
    }
   ],
   "source": [
    "pitching = (pitching\n",
    "    .filter(pl.col('yearID') >= 2006)\n",
    "    .group_by(pl.col('playerID'), pl.col('yearID'))\n",
    "    .agg([pl.col('stint').sum(),\n",
    "          pl.col('W').sum(),\n",
    "          pl.col('L').sum(),\n",
    "          pl.col('G').sum(),\n",
    "          pl.col('GS').sum(),\n",
    "          pl.col('CG').sum(),\n",
    "          pl.col('SHO').sum(),\n",
    "          pl.col('SV').sum(),\n",
    "          pl.col('IPouts').sum(),\n",
    "          pl.col('H').sum(),\n",
    "          pl.col('ER').sum(),\n",
    "          pl.col('HR').sum(),\n",
    "          pl.col('BB').sum(),\n",
    "          pl.col('SO').sum(),\n",
    "          pl.col('BAOpp').sum(),\n",
    "          pl.col('ERA').sum(),\n",
    "          pl.col('IBB').sum(),\n",
    "          pl.col('WP').sum(),\n",
    "          pl.col('HBP').sum(),\n",
    "          pl.col('BK').sum(),\n",
    "          pl.col('BFP').sum(),\n",
    "          pl.col('GF').sum(),\n",
    "          pl.col('R').sum(),\n",
    "          pl.col('SH').sum(),\n",
    "          pl.col('SF').sum(),\n",
    "          pl.col('GIDP').sum(),\n",
    "         ])\n",
    ")\n",
    "pitching.head()"
   ]
  },
  {
   "cell_type": "code",
   "execution_count": 99,
   "id": "5159ccdc-e293-4e2a-b6d9-8d01eb405706",
   "metadata": {},
   "outputs": [
    {
     "data": {
      "text/html": [
       "<div><style>\n",
       ".dataframe > thead > tr,\n",
       ".dataframe > tbody > tr {\n",
       "  text-align: right;\n",
       "  white-space: pre-wrap;\n",
       "}\n",
       "</style>\n",
       "<small>shape: (5, 15)</small><table border=\"1\" class=\"dataframe\"><thead><tr><th>playerID</th><th>yearID</th><th>stint</th><th>G</th><th>GS</th><th>InnOuts</th><th>PO</th><th>A</th><th>E</th><th>DP</th><th>PB</th><th>WP</th><th>SB</th><th>CS</th><th>ZR</th></tr><tr><td>str</td><td>i64</td><td>i64</td><td>i64</td><td>i64</td><td>i64</td><td>i64</td><td>i64</td><td>i64</td><td>i64</td><td>str</td><td>str</td><td>str</td><td>str</td><td>str</td></tr></thead><tbody><tr><td>&quot;gloveko01&quot;</td><td>2018</td><td>1</td><td>21</td><td>0</td><td>49</td><td>3</td><td>2</td><td>0</td><td>0</td><td>null</td><td>null</td><td>null</td><td>null</td><td>null</td></tr><tr><td>&quot;romerjo01&quot;</td><td>2021</td><td>1</td><td>11</td><td>0</td><td>27</td><td>2</td><td>1</td><td>0</td><td>0</td><td>null</td><td>null</td><td>null</td><td>null</td><td>null</td></tr><tr><td>&quot;rossco01&quot;</td><td>2012</td><td>1</td><td>116</td><td>112</td><td>2916</td><td>198</td><td>9</td><td>1</td><td>2</td><td>null</td><td>null</td><td>null</td><td>null</td><td>null</td></tr><tr><td>&quot;kingra01&quot;</td><td>2008</td><td>1</td><td>12</td><td>0</td><td>19</td><td>0</td><td>2</td><td>1</td><td>0</td><td>null</td><td>null</td><td>null</td><td>null</td><td>null</td></tr><tr><td>&quot;triolja01&quot;</td><td>2023</td><td>3</td><td>55</td><td>51</td><td>1346</td><td>107</td><td>113</td><td>3</td><td>20</td><td>null</td><td>null</td><td>null</td><td>null</td><td>null</td></tr></tbody></table></div>"
      ],
      "text/plain": [
       "shape: (5, 15)\n",
       "┌───────────┬────────┬───────┬─────┬───┬──────┬──────┬──────┬──────┐\n",
       "│ playerID  ┆ yearID ┆ stint ┆ G   ┆ … ┆ WP   ┆ SB   ┆ CS   ┆ ZR   │\n",
       "│ ---       ┆ ---    ┆ ---   ┆ --- ┆   ┆ ---  ┆ ---  ┆ ---  ┆ ---  │\n",
       "│ str       ┆ i64    ┆ i64   ┆ i64 ┆   ┆ str  ┆ str  ┆ str  ┆ str  │\n",
       "╞═══════════╪════════╪═══════╪═════╪═══╪══════╪══════╪══════╪══════╡\n",
       "│ gloveko01 ┆ 2018   ┆ 1     ┆ 21  ┆ … ┆ null ┆ null ┆ null ┆ null │\n",
       "│ romerjo01 ┆ 2021   ┆ 1     ┆ 11  ┆ … ┆ null ┆ null ┆ null ┆ null │\n",
       "│ rossco01  ┆ 2012   ┆ 1     ┆ 116 ┆ … ┆ null ┆ null ┆ null ┆ null │\n",
       "│ kingra01  ┆ 2008   ┆ 1     ┆ 12  ┆ … ┆ null ┆ null ┆ null ┆ null │\n",
       "│ triolja01 ┆ 2023   ┆ 3     ┆ 55  ┆ … ┆ null ┆ null ┆ null ┆ null │\n",
       "└───────────┴────────┴───────┴─────┴───┴──────┴──────┴──────┴──────┘"
      ]
     },
     "execution_count": 99,
     "metadata": {},
     "output_type": "execute_result"
    }
   ],
   "source": [
    "fielding = (fielding\n",
    "    .filter(pl.col('yearID') >= 2006)\n",
    "    .group_by(pl.col('playerID'), pl.col('yearID'))\n",
    "    .agg([pl.col('stint').sum(),\n",
    "          pl.col('G').sum(),\n",
    "          pl.col('GS').sum(),\n",
    "          pl.col('InnOuts').sum(),\n",
    "          pl.col('PO').sum(),\n",
    "          pl.col('A').sum(),\n",
    "          pl.col('E').sum(),\n",
    "          pl.col('DP').sum(),\n",
    "          pl.col('PB').sum(),\n",
    "          pl.col('WP').sum(),\n",
    "          pl.col('SB').sum(),\n",
    "          pl.col('CS').sum(),\n",
    "          pl.col('ZR').sum(),\n",
    "         ])\n",
    ")\n",
    "fielding.head()"
   ]
  },
  {
   "cell_type": "code",
   "execution_count": 100,
   "id": "2c079951-7319-405a-b8b6-96505b38323b",
   "metadata": {},
   "outputs": [
    {
     "data": {
      "text/html": [
       "<div><style>\n",
       ".dataframe > thead > tr,\n",
       ".dataframe > tbody > tr {\n",
       "  text-align: right;\n",
       "  white-space: pre-wrap;\n",
       "}\n",
       "</style>\n",
       "<small>shape: (9_131, 61)</small><table border=\"1\" class=\"dataframe\"><thead><tr><th>playerID</th><th>yearID</th><th>salary</th><th>stint</th><th>G</th><th>G_batting</th><th>AB</th><th>R</th><th>H</th><th>2B</th><th>3B</th><th>HR</th><th>RBI</th><th>SB</th><th>CS</th><th>BB</th><th>SO</th><th>IBB</th><th>HBP</th><th>SH</th><th>SF</th><th>GIDP</th><th>G_old</th><th>stint_right</th><th>W</th><th>L</th><th>G_right</th><th>GS</th><th>CG</th><th>SHO</th><th>SV</th><th>IPouts</th><th>H_right</th><th>ER</th><th>HR_right</th><th>BB_right</th><th>SO_right</th><th>BAOpp</th><th>ERA</th><th>IBB_right</th><th>WP</th><th>HBP_right</th><th>BK</th><th>BFP</th><th>GF</th><th>R_right</th><th>SH_right</th><th>SF_right</th><th>GIDP_right</th><th>GS_right</th><th>InnOuts</th><th>PO</th><th>A</th><th>E</th><th>DP</th><th>PB</th><th>WP_right</th><th>SB_right</th><th>CS_right</th><th>ZR</th><th>Training_Validation</th></tr><tr><td>str</td><td>i64</td><td>i64</td><td>i64</td><td>i64</td><td>i64</td><td>i64</td><td>i64</td><td>i64</td><td>i64</td><td>i64</td><td>i64</td><td>i64</td><td>i64</td><td>i64</td><td>i64</td><td>i64</td><td>i64</td><td>i64</td><td>i64</td><td>i64</td><td>i64</td><td>str</td><td>i64</td><td>i64</td><td>i64</td><td>i64</td><td>i64</td><td>i64</td><td>i64</td><td>i64</td><td>i64</td><td>i64</td><td>i64</td><td>i64</td><td>i64</td><td>i64</td><td>f64</td><td>f64</td><td>i64</td><td>i64</td><td>i64</td><td>i64</td><td>i64</td><td>i64</td><td>i64</td><td>i64</td><td>i64</td><td>i64</td><td>i64</td><td>i64</td><td>i64</td><td>i64</td><td>i64</td><td>i64</td><td>str</td><td>str</td><td>str</td><td>str</td><td>str</td><td>str</td></tr></thead><tbody><tr><td>&quot;coraal01&quot;</td><td>2008</td><td>2000000</td><td>1</td><td>75</td><td>0</td><td>152</td><td>14</td><td>41</td><td>8</td><td>2</td><td>0</td><td>9</td><td>1</td><td>1</td><td>16</td><td>13</td><td>1</td><td>9</td><td>1</td><td>1</td><td>3</td><td>null</td><td>null</td><td>null</td><td>null</td><td>null</td><td>null</td><td>null</td><td>null</td><td>null</td><td>null</td><td>null</td><td>null</td><td>null</td><td>null</td><td>null</td><td>null</td><td>null</td><td>null</td><td>null</td><td>null</td><td>null</td><td>null</td><td>null</td><td>null</td><td>null</td><td>null</td><td>null</td><td>null</td><td>null</td><td>null</td><td>null</td><td>null</td><td>null</td><td>null</td><td>null</td><td>null</td><td>null</td><td>null</td><td>&quot;Training&quot;</td></tr><tr><td>&quot;jacobmi02&quot;</td><td>2008</td><td>395000</td><td>1</td><td>141</td><td>0</td><td>477</td><td>67</td><td>118</td><td>27</td><td>2</td><td>32</td><td>93</td><td>1</td><td>0</td><td>36</td><td>119</td><td>10</td><td>1</td><td>0</td><td>5</td><td>7</td><td>null</td><td>null</td><td>null</td><td>null</td><td>null</td><td>null</td><td>null</td><td>null</td><td>null</td><td>null</td><td>null</td><td>null</td><td>null</td><td>null</td><td>null</td><td>null</td><td>null</td><td>null</td><td>null</td><td>null</td><td>null</td><td>null</td><td>null</td><td>null</td><td>null</td><td>null</td><td>null</td><td>null</td><td>null</td><td>null</td><td>null</td><td>null</td><td>null</td><td>null</td><td>null</td><td>null</td><td>null</td><td>null</td><td>&quot;Training&quot;</td></tr><tr><td>&quot;huch01&quot;</td><td>2008</td><td>390000</td><td>1</td><td>65</td><td>0</td><td>116</td><td>16</td><td>21</td><td>2</td><td>2</td><td>0</td><td>9</td><td>2</td><td>0</td><td>11</td><td>23</td><td>4</td><td>0</td><td>2</td><td>0</td><td>5</td><td>null</td><td>null</td><td>null</td><td>null</td><td>null</td><td>null</td><td>null</td><td>null</td><td>null</td><td>null</td><td>null</td><td>null</td><td>null</td><td>null</td><td>null</td><td>null</td><td>null</td><td>null</td><td>null</td><td>null</td><td>null</td><td>null</td><td>null</td><td>null</td><td>null</td><td>null</td><td>null</td><td>null</td><td>null</td><td>null</td><td>null</td><td>null</td><td>null</td><td>null</td><td>null</td><td>null</td><td>null</td><td>null</td><td>&quot;Training&quot;</td></tr><tr><td>&quot;rossco01&quot;</td><td>2009</td><td>2225000</td><td>1</td><td>151</td><td>0</td><td>559</td><td>73</td><td>151</td><td>37</td><td>1</td><td>24</td><td>90</td><td>5</td><td>2</td><td>34</td><td>122</td><td>1</td><td>9</td><td>0</td><td>2</td><td>18</td><td>null</td><td>1</td><td>0</td><td>0</td><td>1</td><td>0</td><td>0</td><td>0</td><td>0</td><td>3</td><td>1</td><td>0</td><td>0</td><td>0</td><td>0</td><td>0.25</td><td>0.0</td><td>0</td><td>0</td><td>0</td><td>0</td><td>4</td><td>1</td><td>0</td><td>0</td><td>0</td><td>0</td><td>null</td><td>null</td><td>null</td><td>null</td><td>null</td><td>null</td><td>null</td><td>null</td><td>null</td><td>null</td><td>null</td><td>&quot;Training&quot;</td></tr><tr><td>&quot;morsemi01&quot;</td><td>2010</td><td>410000</td><td>1</td><td>98</td><td>0</td><td>266</td><td>36</td><td>77</td><td>12</td><td>2</td><td>15</td><td>41</td><td>0</td><td>1</td><td>22</td><td>64</td><td>1</td><td>4</td><td>0</td><td>1</td><td>6</td><td>null</td><td>null</td><td>null</td><td>null</td><td>null</td><td>null</td><td>null</td><td>null</td><td>null</td><td>null</td><td>null</td><td>null</td><td>null</td><td>null</td><td>null</td><td>null</td><td>null</td><td>null</td><td>null</td><td>null</td><td>null</td><td>null</td><td>null</td><td>null</td><td>null</td><td>null</td><td>null</td><td>null</td><td>null</td><td>null</td><td>null</td><td>null</td><td>null</td><td>null</td><td>null</td><td>null</td><td>null</td><td>null</td><td>&quot;Training&quot;</td></tr><tr><td>&hellip;</td><td>&hellip;</td><td>&hellip;</td><td>&hellip;</td><td>&hellip;</td><td>&hellip;</td><td>&hellip;</td><td>&hellip;</td><td>&hellip;</td><td>&hellip;</td><td>&hellip;</td><td>&hellip;</td><td>&hellip;</td><td>&hellip;</td><td>&hellip;</td><td>&hellip;</td><td>&hellip;</td><td>&hellip;</td><td>&hellip;</td><td>&hellip;</td><td>&hellip;</td><td>&hellip;</td><td>&hellip;</td><td>&hellip;</td><td>&hellip;</td><td>&hellip;</td><td>&hellip;</td><td>&hellip;</td><td>&hellip;</td><td>&hellip;</td><td>&hellip;</td><td>&hellip;</td><td>&hellip;</td><td>&hellip;</td><td>&hellip;</td><td>&hellip;</td><td>&hellip;</td><td>&hellip;</td><td>&hellip;</td><td>&hellip;</td><td>&hellip;</td><td>&hellip;</td><td>&hellip;</td><td>&hellip;</td><td>&hellip;</td><td>&hellip;</td><td>&hellip;</td><td>&hellip;</td><td>&hellip;</td><td>&hellip;</td><td>&hellip;</td><td>&hellip;</td><td>&hellip;</td><td>&hellip;</td><td>&hellip;</td><td>&hellip;</td><td>&hellip;</td><td>&hellip;</td><td>&hellip;</td><td>&hellip;</td><td>&hellip;</td></tr><tr><td>&quot;dillati01&quot;</td><td>2012</td><td>482000</td><td>1</td><td>34</td><td>0</td><td>0</td><td>0</td><td>0</td><td>0</td><td>0</td><td>0</td><td>0</td><td>0</td><td>0</td><td>0</td><td>0</td><td>0</td><td>0</td><td>0</td><td>0</td><td>0</td><td>null</td><td>1</td><td>0</td><td>2</td><td>34</td><td>0</td><td>0</td><td>0</td><td>0</td><td>111</td><td>45</td><td>18</td><td>3</td><td>14</td><td>29</td><td>0.302</td><td>4.38</td><td>2</td><td>0</td><td>1</td><td>0</td><td>166</td><td>15</td><td>21</td><td>2</td><td>0</td><td>5</td><td>0</td><td>111</td><td>3</td><td>4</td><td>0</td><td>0</td><td>null</td><td>null</td><td>null</td><td>null</td><td>null</td><td>&quot;Training&quot;</td></tr><tr><td>&quot;rizzoan01&quot;</td><td>2014</td><td>1250000</td><td>1</td><td>140</td><td>0</td><td>524</td><td>89</td><td>150</td><td>28</td><td>1</td><td>32</td><td>78</td><td>5</td><td>4</td><td>73</td><td>116</td><td>7</td><td>15</td><td>0</td><td>4</td><td>8</td><td>null</td><td>null</td><td>null</td><td>null</td><td>null</td><td>null</td><td>null</td><td>null</td><td>null</td><td>null</td><td>null</td><td>null</td><td>null</td><td>null</td><td>null</td><td>null</td><td>null</td><td>null</td><td>null</td><td>null</td><td>null</td><td>null</td><td>null</td><td>null</td><td>null</td><td>null</td><td>null</td><td>140</td><td>3777</td><td>1184</td><td>118</td><td>9</td><td>104</td><td>null</td><td>null</td><td>null</td><td>null</td><td>null</td><td>&quot;Training&quot;</td></tr><tr><td>&quot;machaal01&quot;</td><td>2007</td><td>380000</td><td>null</td><td>null</td><td>null</td><td>null</td><td>null</td><td>null</td><td>null</td><td>null</td><td>null</td><td>null</td><td>null</td><td>null</td><td>null</td><td>null</td><td>null</td><td>null</td><td>null</td><td>null</td><td>null</td><td>null</td><td>null</td><td>null</td><td>null</td><td>null</td><td>null</td><td>null</td><td>null</td><td>null</td><td>null</td><td>null</td><td>null</td><td>null</td><td>null</td><td>null</td><td>null</td><td>null</td><td>null</td><td>null</td><td>null</td><td>null</td><td>null</td><td>null</td><td>null</td><td>null</td><td>null</td><td>null</td><td>null</td><td>null</td><td>null</td><td>null</td><td>null</td><td>null</td><td>null</td><td>null</td><td>null</td><td>null</td><td>null</td><td>&quot;Training&quot;</td></tr><tr><td>&quot;lidgebr01&quot;</td><td>2011</td><td>12000000</td><td>1</td><td>25</td><td>0</td><td>0</td><td>0</td><td>0</td><td>0</td><td>0</td><td>0</td><td>0</td><td>0</td><td>0</td><td>0</td><td>0</td><td>0</td><td>0</td><td>0</td><td>0</td><td>0</td><td>null</td><td>1</td><td>0</td><td>2</td><td>25</td><td>0</td><td>0</td><td>0</td><td>1</td><td>58</td><td>16</td><td>3</td><td>0</td><td>13</td><td>23</td><td>0.225</td><td>1.4</td><td>3</td><td>2</td><td>1</td><td>0</td><td>86</td><td>4</td><td>3</td><td>1</td><td>0</td><td>1</td><td>0</td><td>58</td><td>1</td><td>2</td><td>0</td><td>0</td><td>null</td><td>null</td><td>null</td><td>null</td><td>null</td><td>&quot;Training&quot;</td></tr><tr><td>&quot;espinda01&quot;</td><td>2014</td><td>540580</td><td>1</td><td>114</td><td>0</td><td>333</td><td>31</td><td>73</td><td>14</td><td>3</td><td>8</td><td>27</td><td>8</td><td>1</td><td>18</td><td>122</td><td>5</td><td>12</td><td>0</td><td>1</td><td>5</td><td>null</td><td>null</td><td>null</td><td>null</td><td>null</td><td>null</td><td>null</td><td>null</td><td>null</td><td>null</td><td>null</td><td>null</td><td>null</td><td>null</td><td>null</td><td>null</td><td>null</td><td>null</td><td>null</td><td>null</td><td>null</td><td>null</td><td>null</td><td>null</td><td>null</td><td>null</td><td>null</td><td>null</td><td>null</td><td>null</td><td>null</td><td>null</td><td>null</td><td>null</td><td>null</td><td>null</td><td>null</td><td>null</td><td>&quot;Training&quot;</td></tr></tbody></table></div>"
      ],
      "text/plain": [
       "shape: (9_131, 61)\n",
       "┌───────────┬────────┬──────────┬───────┬───┬──────────┬──────────┬──────┬─────────────────────┐\n",
       "│ playerID  ┆ yearID ┆ salary   ┆ stint ┆ … ┆ SB_right ┆ CS_right ┆ ZR   ┆ Training_Validation │\n",
       "│ ---       ┆ ---    ┆ ---      ┆ ---   ┆   ┆ ---      ┆ ---      ┆ ---  ┆ ---                 │\n",
       "│ str       ┆ i64    ┆ i64      ┆ i64   ┆   ┆ str      ┆ str      ┆ str  ┆ str                 │\n",
       "╞═══════════╪════════╪══════════╪═══════╪═══╪══════════╪══════════╪══════╪═════════════════════╡\n",
       "│ coraal01  ┆ 2008   ┆ 2000000  ┆ 1     ┆ … ┆ null     ┆ null     ┆ null ┆ Training            │\n",
       "│ jacobmi02 ┆ 2008   ┆ 395000   ┆ 1     ┆ … ┆ null     ┆ null     ┆ null ┆ Training            │\n",
       "│ huch01    ┆ 2008   ┆ 390000   ┆ 1     ┆ … ┆ null     ┆ null     ┆ null ┆ Training            │\n",
       "│ rossco01  ┆ 2009   ┆ 2225000  ┆ 1     ┆ … ┆ null     ┆ null     ┆ null ┆ Training            │\n",
       "│ morsemi01 ┆ 2010   ┆ 410000   ┆ 1     ┆ … ┆ null     ┆ null     ┆ null ┆ Training            │\n",
       "│ …         ┆ …      ┆ …        ┆ …     ┆ … ┆ …        ┆ …        ┆ …    ┆ …                   │\n",
       "│ dillati01 ┆ 2012   ┆ 482000   ┆ 1     ┆ … ┆ null     ┆ null     ┆ null ┆ Training            │\n",
       "│ rizzoan01 ┆ 2014   ┆ 1250000  ┆ 1     ┆ … ┆ null     ┆ null     ┆ null ┆ Training            │\n",
       "│ machaal01 ┆ 2007   ┆ 380000   ┆ null  ┆ … ┆ null     ┆ null     ┆ null ┆ Training            │\n",
       "│ lidgebr01 ┆ 2011   ┆ 12000000 ┆ 1     ┆ … ┆ null     ┆ null     ┆ null ┆ Training            │\n",
       "│ espinda01 ┆ 2014   ┆ 540580   ┆ 1     ┆ … ┆ null     ┆ null     ┆ null ┆ Training            │\n",
       "└───────────┴────────┴──────────┴───────┴───┴──────────┴──────────┴──────┴─────────────────────┘"
      ]
     },
     "execution_count": 100,
     "metadata": {},
     "output_type": "execute_result"
    }
   ],
   "source": [
    "(salaries\n",
    " .join(batting, on=['playerID', 'yearID'], how='left')\n",
    " .join(pitching, on=['playerID', 'yearID'], how='left')\n",
    " .join(fielding, on=['playerID', 'yearID', 'stint', 'G'], how='left')\n",
    " .with_columns(Training_Validation = pl.when(pl.col('yearID') == 2016)\n",
    "                                       .then(pl.lit('Validation'))\n",
    "                                       .otherwise(pl.lit('Training')))\n",
    ")"
   ]
  }
 ],
 "metadata": {
  "kernelspec": {
   "display_name": "Python 3 (ipykernel)",
   "language": "python",
   "name": "python3"
  },
  "language_info": {
   "codemirror_mode": {
    "name": "ipython",
    "version": 3
   },
   "file_extension": ".py",
   "mimetype": "text/x-python",
   "name": "python",
   "nbconvert_exporter": "python",
   "pygments_lexer": "ipython3",
   "version": "3.12.5"
  }
 },
 "nbformat": 4,
 "nbformat_minor": 5
}
