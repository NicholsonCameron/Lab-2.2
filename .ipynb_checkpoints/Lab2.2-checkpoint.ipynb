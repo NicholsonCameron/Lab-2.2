{
 "cells": [
  {
   "cell_type": "code",
   "execution_count": 94,
   "id": "cd781fb0-232b-4279-957a-7872a9c34d23",
   "metadata": {},
   "outputs": [],
   "source": [
    "import polars as pl"
   ]
  },
  {
   "cell_type": "code",
   "execution_count": 95,
   "id": "9203fdb0-eefd-4f1d-80c9-8145cfd77e00",
   "metadata": {},
   "outputs": [
    {
     "data": {
      "text/html": [
       "<div><style>\n",
       ".dataframe > thead > tr,\n",
       ".dataframe > tbody > tr {\n",
       "  text-align: right;\n",
       "  white-space: pre-wrap;\n",
       "}\n",
       "</style>\n",
       "<small>shape: (6_797, 6)</small><table border=\"1\" class=\"dataframe\"><thead><tr><th>playerID</th><th>awardID</th><th>yearID</th><th>lgID</th><th>tie</th><th>notes</th></tr><tr><td>str</td><td>str</td><td>i64</td><td>str</td><td>str</td><td>str</td></tr></thead><tbody><tr><td>&quot;poseybu01&quot;</td><td>&quot;Lou Gehrig Memorial Award&quot;</td><td>2019</td><td>&quot;ML&quot;</td><td>null</td><td>null</td></tr><tr><td>&quot;klubeco01&quot;</td><td>&quot;Lou Gehrig Memorial Award&quot;</td><td>2018</td><td>&quot;ML&quot;</td><td>null</td><td>null</td></tr><tr><td>&quot;vottojo01&quot;</td><td>&quot;Lou Gehrig Memorial Award&quot;</td><td>2017</td><td>&quot;ML&quot;</td><td>null</td><td>null</td></tr><tr><td>&quot;altuvjo01&quot;</td><td>&quot;Lou Gehrig Memorial Award&quot;</td><td>2016</td><td>&quot;ML&quot;</td><td>null</td><td>null</td></tr><tr><td>&quot;grandcu01&quot;</td><td>&quot;Lou Gehrig Memorial Award&quot;</td><td>2015</td><td>&quot;ML&quot;</td><td>null</td><td>null</td></tr><tr><td>&hellip;</td><td>&hellip;</td><td>&hellip;</td><td>&hellip;</td><td>&hellip;</td><td>&hellip;</td></tr><tr><td>&quot;barnhtu01&quot;</td><td>&quot;Gold Glove&quot;</td><td>2017</td><td>&quot;NL&quot;</td><td>null</td><td>&quot;C&quot;</td></tr><tr><td>&quot;goldspa01&quot;</td><td>&quot;Gold Glove&quot;</td><td>2017</td><td>&quot;NL&quot;</td><td>null</td><td>&quot;1B&quot;</td></tr><tr><td>&quot;lemahdj01&quot;</td><td>&quot;Gold Glove&quot;</td><td>2017</td><td>&quot;NL&quot;</td><td>null</td><td>&quot;2B&quot;</td></tr><tr><td>&quot;arenano01&quot;</td><td>&quot;Gold Glove&quot;</td><td>2017</td><td>&quot;NL&quot;</td><td>null</td><td>&quot;3B&quot;</td></tr><tr><td>&quot;crawfbr01&quot;</td><td>&quot;Gold Glove&quot;</td><td>2017</td><td>&quot;NL&quot;</td><td>null</td><td>&quot;SS&quot;</td></tr></tbody></table></div>"
      ],
      "text/plain": [
       "shape: (6_797, 6)\n",
       "┌───────────┬───────────────────────────┬────────┬──────┬──────┬───────┐\n",
       "│ playerID  ┆ awardID                   ┆ yearID ┆ lgID ┆ tie  ┆ notes │\n",
       "│ ---       ┆ ---                       ┆ ---    ┆ ---  ┆ ---  ┆ ---   │\n",
       "│ str       ┆ str                       ┆ i64    ┆ str  ┆ str  ┆ str   │\n",
       "╞═══════════╪═══════════════════════════╪════════╪══════╪══════╪═══════╡\n",
       "│ poseybu01 ┆ Lou Gehrig Memorial Award ┆ 2019   ┆ ML   ┆ null ┆ null  │\n",
       "│ klubeco01 ┆ Lou Gehrig Memorial Award ┆ 2018   ┆ ML   ┆ null ┆ null  │\n",
       "│ vottojo01 ┆ Lou Gehrig Memorial Award ┆ 2017   ┆ ML   ┆ null ┆ null  │\n",
       "│ altuvjo01 ┆ Lou Gehrig Memorial Award ┆ 2016   ┆ ML   ┆ null ┆ null  │\n",
       "│ grandcu01 ┆ Lou Gehrig Memorial Award ┆ 2015   ┆ ML   ┆ null ┆ null  │\n",
       "│ …         ┆ …                         ┆ …      ┆ …    ┆ …    ┆ …     │\n",
       "│ barnhtu01 ┆ Gold Glove                ┆ 2017   ┆ NL   ┆ null ┆ C     │\n",
       "│ goldspa01 ┆ Gold Glove                ┆ 2017   ┆ NL   ┆ null ┆ 1B    │\n",
       "│ lemahdj01 ┆ Gold Glove                ┆ 2017   ┆ NL   ┆ null ┆ 2B    │\n",
       "│ arenano01 ┆ Gold Glove                ┆ 2017   ┆ NL   ┆ null ┆ 3B    │\n",
       "│ crawfbr01 ┆ Gold Glove                ┆ 2017   ┆ NL   ┆ null ┆ SS    │\n",
       "└───────────┴───────────────────────────┴────────┴──────┴──────┴───────┘"
      ]
     },
     "execution_count": 95,
     "metadata": {},
     "output_type": "execute_result"
    }
   ],
   "source": [
    "awards = pl.read_csv('./Data/lahman_1871-2023_csv/AwardsPlayers.csv')\n",
    "awards"
   ]
  },
  {
   "cell_type": "code",
   "execution_count": 96,
   "id": "476bd633-98e6-42db-a457-77331d7edec1",
   "metadata": {},
   "outputs": [
    {
     "data": {
      "text/html": [
       "<div><style>\n",
       ".dataframe > thead > tr,\n",
       ".dataframe > tbody > tr {\n",
       "  text-align: right;\n",
       "  white-space: pre-wrap;\n",
       "}\n",
       "</style>\n",
       "<small>shape: (5, 18)</small><table border=\"1\" class=\"dataframe\"><thead><tr><th>playerID</th><th>yearID</th><th>stint</th><th>teamID</th><th>lgID</th><th>POS</th><th>G</th><th>GS</th><th>InnOuts</th><th>PO</th><th>A</th><th>E</th><th>DP</th><th>PB</th><th>WP</th><th>SB</th><th>CS</th><th>ZR</th></tr><tr><td>str</td><td>i64</td><td>i64</td><td>str</td><td>str</td><td>str</td><td>i64</td><td>i64</td><td>i64</td><td>i64</td><td>i64</td><td>i64</td><td>i64</td><td>str</td><td>str</td><td>str</td><td>str</td><td>str</td></tr></thead><tbody><tr><td>&quot;aardsda01&quot;</td><td>2004</td><td>1</td><td>&quot;SFN&quot;</td><td>&quot;NL&quot;</td><td>&quot;P&quot;</td><td>11</td><td>0</td><td>32</td><td>0</td><td>0</td><td>0</td><td>0</td><td>null</td><td>null</td><td>null</td><td>null</td><td>null</td></tr><tr><td>&quot;aardsda01&quot;</td><td>2006</td><td>1</td><td>&quot;CHN&quot;</td><td>&quot;NL&quot;</td><td>&quot;P&quot;</td><td>45</td><td>0</td><td>159</td><td>1</td><td>5</td><td>0</td><td>1</td><td>null</td><td>null</td><td>null</td><td>null</td><td>null</td></tr><tr><td>&quot;aardsda01&quot;</td><td>2007</td><td>1</td><td>&quot;CHA&quot;</td><td>&quot;AL&quot;</td><td>&quot;P&quot;</td><td>25</td><td>0</td><td>97</td><td>2</td><td>4</td><td>1</td><td>0</td><td>null</td><td>null</td><td>null</td><td>null</td><td>null</td></tr><tr><td>&quot;aardsda01&quot;</td><td>2008</td><td>1</td><td>&quot;BOS&quot;</td><td>&quot;AL&quot;</td><td>&quot;P&quot;</td><td>47</td><td>0</td><td>146</td><td>3</td><td>6</td><td>0</td><td>0</td><td>null</td><td>null</td><td>null</td><td>null</td><td>null</td></tr><tr><td>&quot;aardsda01&quot;</td><td>2009</td><td>1</td><td>&quot;SEA&quot;</td><td>&quot;AL&quot;</td><td>&quot;P&quot;</td><td>73</td><td>0</td><td>214</td><td>2</td><td>5</td><td>0</td><td>1</td><td>null</td><td>null</td><td>null</td><td>null</td><td>null</td></tr></tbody></table></div>"
      ],
      "text/plain": [
       "shape: (5, 18)\n",
       "┌───────────┬────────┬───────┬────────┬───┬──────┬──────┬──────┬──────┐\n",
       "│ playerID  ┆ yearID ┆ stint ┆ teamID ┆ … ┆ WP   ┆ SB   ┆ CS   ┆ ZR   │\n",
       "│ ---       ┆ ---    ┆ ---   ┆ ---    ┆   ┆ ---  ┆ ---  ┆ ---  ┆ ---  │\n",
       "│ str       ┆ i64    ┆ i64   ┆ str    ┆   ┆ str  ┆ str  ┆ str  ┆ str  │\n",
       "╞═══════════╪════════╪═══════╪════════╪═══╪══════╪══════╪══════╪══════╡\n",
       "│ aardsda01 ┆ 2004   ┆ 1     ┆ SFN    ┆ … ┆ null ┆ null ┆ null ┆ null │\n",
       "│ aardsda01 ┆ 2006   ┆ 1     ┆ CHN    ┆ … ┆ null ┆ null ┆ null ┆ null │\n",
       "│ aardsda01 ┆ 2007   ┆ 1     ┆ CHA    ┆ … ┆ null ┆ null ┆ null ┆ null │\n",
       "│ aardsda01 ┆ 2008   ┆ 1     ┆ BOS    ┆ … ┆ null ┆ null ┆ null ┆ null │\n",
       "│ aardsda01 ┆ 2009   ┆ 1     ┆ SEA    ┆ … ┆ null ┆ null ┆ null ┆ null │\n",
       "└───────────┴────────┴───────┴────────┴───┴──────┴──────┴──────┴──────┘"
      ]
     },
     "execution_count": 96,
     "metadata": {},
     "output_type": "execute_result"
    }
   ],
   "source": [
    "fielding = pl.read_csv('./Data/lahman_1871-2023_csv/Fielding.csv')\n",
    "fielding.head()"
   ]
  },
  {
   "cell_type": "code",
   "execution_count": 97,
   "id": "b7857e11-80ca-4ce2-b56f-e4863165b5fb",
   "metadata": {},
   "outputs": [
    {
     "data": {
      "text/html": [
       "<div><style>\n",
       ".dataframe > thead > tr,\n",
       ".dataframe > tbody > tr {\n",
       "  text-align: right;\n",
       "  white-space: pre-wrap;\n",
       "}\n",
       "</style>\n",
       "<small>shape: (872, 7)</small><table border=\"1\" class=\"dataframe\"><thead><tr><th>playerID</th><th>awardID</th><th>yearID</th><th>lgID</th><th>tie</th><th>POS</th><th>Gold_Glove</th></tr><tr><td>str</td><td>str</td><td>i64</td><td>str</td><td>str</td><td>str</td><td>str</td></tr></thead><tbody><tr><td>&quot;poseybu01&quot;</td><td>&quot;Lou Gehrig Memorial Award&quot;</td><td>2019</td><td>&quot;ML&quot;</td><td>null</td><td>null</td><td>&quot;No&quot;</td></tr><tr><td>&quot;klubeco01&quot;</td><td>&quot;Lou Gehrig Memorial Award&quot;</td><td>2018</td><td>&quot;ML&quot;</td><td>null</td><td>null</td><td>&quot;No&quot;</td></tr><tr><td>&quot;vottojo01&quot;</td><td>&quot;Lou Gehrig Memorial Award&quot;</td><td>2017</td><td>&quot;ML&quot;</td><td>null</td><td>null</td><td>&quot;No&quot;</td></tr><tr><td>&quot;altuvjo01&quot;</td><td>&quot;Lou Gehrig Memorial Award&quot;</td><td>2016</td><td>&quot;ML&quot;</td><td>null</td><td>null</td><td>&quot;No&quot;</td></tr><tr><td>&quot;grandcu01&quot;</td><td>&quot;Lou Gehrig Memorial Award&quot;</td><td>2015</td><td>&quot;ML&quot;</td><td>null</td><td>null</td><td>&quot;No&quot;</td></tr><tr><td>&hellip;</td><td>&hellip;</td><td>&hellip;</td><td>&hellip;</td><td>&hellip;</td><td>&hellip;</td><td>&hellip;</td></tr><tr><td>&quot;barnhtu01&quot;</td><td>&quot;Gold Glove&quot;</td><td>2017</td><td>&quot;NL&quot;</td><td>null</td><td>&quot;C&quot;</td><td>&quot;Yes&quot;</td></tr><tr><td>&quot;goldspa01&quot;</td><td>&quot;Gold Glove&quot;</td><td>2017</td><td>&quot;NL&quot;</td><td>null</td><td>&quot;1B&quot;</td><td>&quot;Yes&quot;</td></tr><tr><td>&quot;lemahdj01&quot;</td><td>&quot;Gold Glove&quot;</td><td>2017</td><td>&quot;NL&quot;</td><td>null</td><td>&quot;2B&quot;</td><td>&quot;Yes&quot;</td></tr><tr><td>&quot;arenano01&quot;</td><td>&quot;Gold Glove&quot;</td><td>2017</td><td>&quot;NL&quot;</td><td>null</td><td>&quot;3B&quot;</td><td>&quot;Yes&quot;</td></tr><tr><td>&quot;crawfbr01&quot;</td><td>&quot;Gold Glove&quot;</td><td>2017</td><td>&quot;NL&quot;</td><td>null</td><td>&quot;SS&quot;</td><td>&quot;Yes&quot;</td></tr></tbody></table></div>"
      ],
      "text/plain": [
       "shape: (872, 7)\n",
       "┌───────────┬───────────────────────────┬────────┬──────┬──────┬──────┬────────────┐\n",
       "│ playerID  ┆ awardID                   ┆ yearID ┆ lgID ┆ tie  ┆ POS  ┆ Gold_Glove │\n",
       "│ ---       ┆ ---                       ┆ ---    ┆ ---  ┆ ---  ┆ ---  ┆ ---        │\n",
       "│ str       ┆ str                       ┆ i64    ┆ str  ┆ str  ┆ str  ┆ str        │\n",
       "╞═══════════╪═══════════════════════════╪════════╪══════╪══════╪══════╪════════════╡\n",
       "│ poseybu01 ┆ Lou Gehrig Memorial Award ┆ 2019   ┆ ML   ┆ null ┆ null ┆ No         │\n",
       "│ klubeco01 ┆ Lou Gehrig Memorial Award ┆ 2018   ┆ ML   ┆ null ┆ null ┆ No         │\n",
       "│ vottojo01 ┆ Lou Gehrig Memorial Award ┆ 2017   ┆ ML   ┆ null ┆ null ┆ No         │\n",
       "│ altuvjo01 ┆ Lou Gehrig Memorial Award ┆ 2016   ┆ ML   ┆ null ┆ null ┆ No         │\n",
       "│ grandcu01 ┆ Lou Gehrig Memorial Award ┆ 2015   ┆ ML   ┆ null ┆ null ┆ No         │\n",
       "│ …         ┆ …                         ┆ …      ┆ …    ┆ …    ┆ …    ┆ …          │\n",
       "│ barnhtu01 ┆ Gold Glove                ┆ 2017   ┆ NL   ┆ null ┆ C    ┆ Yes        │\n",
       "│ goldspa01 ┆ Gold Glove                ┆ 2017   ┆ NL   ┆ null ┆ 1B   ┆ Yes        │\n",
       "│ lemahdj01 ┆ Gold Glove                ┆ 2017   ┆ NL   ┆ null ┆ 2B   ┆ Yes        │\n",
       "│ arenano01 ┆ Gold Glove                ┆ 2017   ┆ NL   ┆ null ┆ 3B   ┆ Yes        │\n",
       "│ crawfbr01 ┆ Gold Glove                ┆ 2017   ┆ NL   ┆ null ┆ SS   ┆ Yes        │\n",
       "└───────────┴───────────────────────────┴────────┴──────┴──────┴──────┴────────────┘"
      ]
     },
     "execution_count": 97,
     "metadata": {},
     "output_type": "execute_result"
    }
   ],
   "source": [
    "awards = (awards\n",
    " .filter(pl.col('yearID') >= 2013)\n",
    " .with_columns(Gold_Glove = pl.when(pl.col('awardID') == 'Gold Glove')\n",
    "                              .then(pl.lit('Yes'))\n",
    "                              .otherwise(pl.lit('No')))\n",
    " .rename({'notes' : 'POS'})\n",
    "          \n",
    ")\n",
    "awards"
   ]
  },
  {
   "cell_type": "code",
   "execution_count": 98,
   "id": "c848b861-e569-4531-b0e2-36cfa68e45ac",
   "metadata": {},
   "outputs": [
    {
     "data": {
      "text/html": [
       "<div><style>\n",
       ".dataframe > thead > tr,\n",
       ".dataframe > tbody > tr {\n",
       "  text-align: right;\n",
       "  white-space: pre-wrap;\n",
       "}\n",
       "</style>\n",
       "<small>shape: (21_356, 16)</small><table border=\"1\" class=\"dataframe\"><thead><tr><th>playerID</th><th>yearID</th><th>lgID</th><th>POS</th><th>G</th><th>GS</th><th>InnOuts</th><th>PO</th><th>A</th><th>E</th><th>DP</th><th>PB</th><th>WP</th><th>SB</th><th>CS</th><th>ZR</th></tr><tr><td>str</td><td>i64</td><td>str</td><td>str</td><td>i64</td><td>i64</td><td>i64</td><td>i64</td><td>i64</td><td>i64</td><td>i64</td><td>str</td><td>str</td><td>str</td><td>str</td><td>str</td></tr></thead><tbody><tr><td>&quot;perdolu02&quot;</td><td>2020</td><td>&quot;NL&quot;</td><td>&quot;P&quot;</td><td>10</td><td>1</td><td>52</td><td>2</td><td>0</td><td>1</td><td>0</td><td>null</td><td>null</td><td>null</td><td>null</td><td>null</td></tr><tr><td>&quot;profaju01&quot;</td><td>2018</td><td>&quot;AL&quot;</td><td>&quot;SS&quot;</td><td>68</td><td>61</td><td>1634</td><td>57</td><td>148</td><td>13</td><td>29</td><td>null</td><td>null</td><td>null</td><td>null</td><td>null</td></tr><tr><td>&quot;santada01&quot;</td><td>2017</td><td>&quot;AL&quot;</td><td>&quot;2B&quot;</td><td>1</td><td>0</td><td>3</td><td>0</td><td>0</td><td>0</td><td>0</td><td>null</td><td>null</td><td>null</td><td>null</td><td>null</td></tr><tr><td>&quot;lopezre01&quot;</td><td>2017</td><td>&quot;AL&quot;</td><td>&quot;P&quot;</td><td>8</td><td>8</td><td>143</td><td>1</td><td>2</td><td>0</td><td>0</td><td>null</td><td>null</td><td>null</td><td>null</td><td>null</td></tr><tr><td>&quot;wilsoju10&quot;</td><td>2018</td><td>&quot;NL&quot;</td><td>&quot;P&quot;</td><td>71</td><td>0</td><td>164</td><td>2</td><td>1</td><td>0</td><td>0</td><td>null</td><td>null</td><td>null</td><td>null</td><td>null</td></tr><tr><td>&hellip;</td><td>&hellip;</td><td>&hellip;</td><td>&hellip;</td><td>&hellip;</td><td>&hellip;</td><td>&hellip;</td><td>&hellip;</td><td>&hellip;</td><td>&hellip;</td><td>&hellip;</td><td>&hellip;</td><td>&hellip;</td><td>&hellip;</td><td>&hellip;</td><td>&hellip;</td></tr><tr><td>&quot;chiselo01&quot;</td><td>2017</td><td>&quot;AL&quot;</td><td>&quot;OF&quot;</td><td>75</td><td>60</td><td>1608</td><td>102</td><td>2</td><td>0</td><td>1</td><td>null</td><td>null</td><td>null</td><td>null</td><td>null</td></tr><tr><td>&quot;germado01&quot;</td><td>2022</td><td>&quot;AL&quot;</td><td>&quot;P&quot;</td><td>15</td><td>14</td><td>217</td><td>5</td><td>1</td><td>1</td><td>0</td><td>null</td><td>null</td><td>null</td><td>null</td><td>null</td></tr><tr><td>&quot;montafr01&quot;</td><td>2022</td><td>&quot;AL&quot;</td><td>&quot;P&quot;</td><td>27</td><td>27</td><td>433</td><td>10</td><td>8</td><td>1</td><td>1</td><td>null</td><td>null</td><td>null</td><td>null</td><td>null</td></tr><tr><td>&quot;dietrde01&quot;</td><td>2017</td><td>&quot;NL&quot;</td><td>&quot;2B&quot;</td><td>10</td><td>6</td><td>189</td><td>13</td><td>21</td><td>0</td><td>5</td><td>null</td><td>null</td><td>null</td><td>null</td><td>null</td></tr><tr><td>&quot;fieldth01&quot;</td><td>2013</td><td>&quot;AL&quot;</td><td>&quot;SS&quot;</td><td>5</td><td>1</td><td>60</td><td>3</td><td>2</td><td>0</td><td>0</td><td>null</td><td>null</td><td>null</td><td>null</td><td>null</td></tr></tbody></table></div>"
      ],
      "text/plain": [
       "shape: (21_356, 16)\n",
       "┌───────────┬────────┬──────┬─────┬───┬──────┬──────┬──────┬──────┐\n",
       "│ playerID  ┆ yearID ┆ lgID ┆ POS ┆ … ┆ WP   ┆ SB   ┆ CS   ┆ ZR   │\n",
       "│ ---       ┆ ---    ┆ ---  ┆ --- ┆   ┆ ---  ┆ ---  ┆ ---  ┆ ---  │\n",
       "│ str       ┆ i64    ┆ str  ┆ str ┆   ┆ str  ┆ str  ┆ str  ┆ str  │\n",
       "╞═══════════╪════════╪══════╪═════╪═══╪══════╪══════╪══════╪══════╡\n",
       "│ perdolu02 ┆ 2020   ┆ NL   ┆ P   ┆ … ┆ null ┆ null ┆ null ┆ null │\n",
       "│ profaju01 ┆ 2018   ┆ AL   ┆ SS  ┆ … ┆ null ┆ null ┆ null ┆ null │\n",
       "│ santada01 ┆ 2017   ┆ AL   ┆ 2B  ┆ … ┆ null ┆ null ┆ null ┆ null │\n",
       "│ lopezre01 ┆ 2017   ┆ AL   ┆ P   ┆ … ┆ null ┆ null ┆ null ┆ null │\n",
       "│ wilsoju10 ┆ 2018   ┆ NL   ┆ P   ┆ … ┆ null ┆ null ┆ null ┆ null │\n",
       "│ …         ┆ …      ┆ …    ┆ …   ┆ … ┆ …    ┆ …    ┆ …    ┆ …    │\n",
       "│ chiselo01 ┆ 2017   ┆ AL   ┆ OF  ┆ … ┆ null ┆ null ┆ null ┆ null │\n",
       "│ germado01 ┆ 2022   ┆ AL   ┆ P   ┆ … ┆ null ┆ null ┆ null ┆ null │\n",
       "│ montafr01 ┆ 2022   ┆ AL   ┆ P   ┆ … ┆ null ┆ null ┆ null ┆ null │\n",
       "│ dietrde01 ┆ 2017   ┆ NL   ┆ 2B  ┆ … ┆ null ┆ null ┆ null ┆ null │\n",
       "│ fieldth01 ┆ 2013   ┆ AL   ┆ SS  ┆ … ┆ null ┆ null ┆ null ┆ null │\n",
       "└───────────┴────────┴──────┴─────┴───┴──────┴──────┴──────┴──────┘"
      ]
     },
     "execution_count": 98,
     "metadata": {},
     "output_type": "execute_result"
    }
   ],
   "source": [
    "fielding = (fielding\n",
    " .filter(pl.col('yearID') >= 2013)\n",
    " .group_by(pl.col('playerID'), pl.col('yearID'), pl.col('lgID'), pl.col('POS'))\n",
    " .agg([pl.col('G').sum(), pl.col('GS').sum(), pl.col('InnOuts').sum(), pl.col('PO').sum(),\n",
    "      pl.col('A').sum(), pl.col('E').sum(), pl.col('DP').sum(), pl.col('PB').sum(),\n",
    "      pl.col('WP').sum(), pl.col('SB').sum(), pl.col('CS').sum(), pl.col('ZR').sum()])\n",
    ")\n",
    "fielding"
   ]
  },
  {
   "cell_type": "code",
   "execution_count": 108,
   "id": "af8be71d-9281-4de1-a775-3fed9fb01d2b",
   "metadata": {},
   "outputs": [
    {
     "data": {
      "text/html": [
       "<div><style>\n",
       ".dataframe > thead > tr,\n",
       ".dataframe > tbody > tr {\n",
       "  text-align: right;\n",
       "  white-space: pre-wrap;\n",
       "}\n",
       "</style>\n",
       "<small>shape: (21_482, 20)</small><table border=\"1\" class=\"dataframe\"><thead><tr><th>playerID</th><th>yearID</th><th>lgID</th><th>POS</th><th>G</th><th>GS</th><th>InnOuts</th><th>PO</th><th>A</th><th>E</th><th>DP</th><th>PB</th><th>WP</th><th>SB</th><th>CS</th><th>ZR</th><th>awardID</th><th>tie</th><th>Gold_Glove</th><th>Training_Validation</th></tr><tr><td>str</td><td>i64</td><td>str</td><td>str</td><td>i64</td><td>i64</td><td>i64</td><td>i64</td><td>i64</td><td>i64</td><td>i64</td><td>str</td><td>str</td><td>str</td><td>str</td><td>str</td><td>str</td><td>str</td><td>str</td><td>str</td></tr></thead><tbody><tr><td>&quot;perdolu02&quot;</td><td>2020</td><td>&quot;NL&quot;</td><td>&quot;P&quot;</td><td>10</td><td>1</td><td>52</td><td>2</td><td>0</td><td>1</td><td>0</td><td>null</td><td>null</td><td>null</td><td>null</td><td>null</td><td>null</td><td>null</td><td>null</td><td>&quot;Training&quot;</td></tr><tr><td>&quot;profaju01&quot;</td><td>2018</td><td>&quot;AL&quot;</td><td>&quot;SS&quot;</td><td>68</td><td>61</td><td>1634</td><td>57</td><td>148</td><td>13</td><td>29</td><td>null</td><td>null</td><td>null</td><td>null</td><td>null</td><td>null</td><td>null</td><td>null</td><td>&quot;Training&quot;</td></tr><tr><td>&quot;santada01&quot;</td><td>2017</td><td>&quot;AL&quot;</td><td>&quot;2B&quot;</td><td>1</td><td>0</td><td>3</td><td>0</td><td>0</td><td>0</td><td>0</td><td>null</td><td>null</td><td>null</td><td>null</td><td>null</td><td>null</td><td>null</td><td>null</td><td>&quot;Training&quot;</td></tr><tr><td>&quot;lopezre01&quot;</td><td>2017</td><td>&quot;AL&quot;</td><td>&quot;P&quot;</td><td>8</td><td>8</td><td>143</td><td>1</td><td>2</td><td>0</td><td>0</td><td>null</td><td>null</td><td>null</td><td>null</td><td>null</td><td>null</td><td>null</td><td>null</td><td>&quot;Training&quot;</td></tr><tr><td>&quot;wilsoju10&quot;</td><td>2018</td><td>&quot;NL&quot;</td><td>&quot;P&quot;</td><td>71</td><td>0</td><td>164</td><td>2</td><td>1</td><td>0</td><td>0</td><td>null</td><td>null</td><td>null</td><td>null</td><td>null</td><td>null</td><td>null</td><td>null</td><td>&quot;Training&quot;</td></tr><tr><td>&hellip;</td><td>&hellip;</td><td>&hellip;</td><td>&hellip;</td><td>&hellip;</td><td>&hellip;</td><td>&hellip;</td><td>&hellip;</td><td>&hellip;</td><td>&hellip;</td><td>&hellip;</td><td>&hellip;</td><td>&hellip;</td><td>&hellip;</td><td>&hellip;</td><td>&hellip;</td><td>&hellip;</td><td>&hellip;</td><td>&hellip;</td><td>&hellip;</td></tr><tr><td>&quot;chiselo01&quot;</td><td>2017</td><td>&quot;AL&quot;</td><td>&quot;OF&quot;</td><td>75</td><td>60</td><td>1608</td><td>102</td><td>2</td><td>0</td><td>1</td><td>null</td><td>null</td><td>null</td><td>null</td><td>null</td><td>null</td><td>null</td><td>null</td><td>&quot;Training&quot;</td></tr><tr><td>&quot;germado01&quot;</td><td>2022</td><td>&quot;AL&quot;</td><td>&quot;P&quot;</td><td>15</td><td>14</td><td>217</td><td>5</td><td>1</td><td>1</td><td>0</td><td>null</td><td>null</td><td>null</td><td>null</td><td>null</td><td>null</td><td>null</td><td>null</td><td>&quot;Training&quot;</td></tr><tr><td>&quot;montafr01&quot;</td><td>2022</td><td>&quot;AL&quot;</td><td>&quot;P&quot;</td><td>27</td><td>27</td><td>433</td><td>10</td><td>8</td><td>1</td><td>1</td><td>null</td><td>null</td><td>null</td><td>null</td><td>null</td><td>null</td><td>null</td><td>null</td><td>&quot;Training&quot;</td></tr><tr><td>&quot;dietrde01&quot;</td><td>2017</td><td>&quot;NL&quot;</td><td>&quot;2B&quot;</td><td>10</td><td>6</td><td>189</td><td>13</td><td>21</td><td>0</td><td>5</td><td>null</td><td>null</td><td>null</td><td>null</td><td>null</td><td>null</td><td>null</td><td>null</td><td>&quot;Training&quot;</td></tr><tr><td>&quot;fieldth01&quot;</td><td>2013</td><td>&quot;AL&quot;</td><td>&quot;SS&quot;</td><td>5</td><td>1</td><td>60</td><td>3</td><td>2</td><td>0</td><td>0</td><td>null</td><td>null</td><td>null</td><td>null</td><td>null</td><td>null</td><td>null</td><td>null</td><td>&quot;Training&quot;</td></tr></tbody></table></div>"
      ],
      "text/plain": [
       "shape: (21_482, 20)\n",
       "┌───────────┬────────┬──────┬─────┬───┬─────────┬──────┬────────────┬─────────────────────┐\n",
       "│ playerID  ┆ yearID ┆ lgID ┆ POS ┆ … ┆ awardID ┆ tie  ┆ Gold_Glove ┆ Training_Validation │\n",
       "│ ---       ┆ ---    ┆ ---  ┆ --- ┆   ┆ ---     ┆ ---  ┆ ---        ┆ ---                 │\n",
       "│ str       ┆ i64    ┆ str  ┆ str ┆   ┆ str     ┆ str  ┆ str        ┆ str                 │\n",
       "╞═══════════╪════════╪══════╪═════╪═══╪═════════╪══════╪════════════╪═════════════════════╡\n",
       "│ perdolu02 ┆ 2020   ┆ NL   ┆ P   ┆ … ┆ null    ┆ null ┆ null       ┆ Training            │\n",
       "│ profaju01 ┆ 2018   ┆ AL   ┆ SS  ┆ … ┆ null    ┆ null ┆ null       ┆ Training            │\n",
       "│ santada01 ┆ 2017   ┆ AL   ┆ 2B  ┆ … ┆ null    ┆ null ┆ null       ┆ Training            │\n",
       "│ lopezre01 ┆ 2017   ┆ AL   ┆ P   ┆ … ┆ null    ┆ null ┆ null       ┆ Training            │\n",
       "│ wilsoju10 ┆ 2018   ┆ NL   ┆ P   ┆ … ┆ null    ┆ null ┆ null       ┆ Training            │\n",
       "│ …         ┆ …      ┆ …    ┆ …   ┆ … ┆ …       ┆ …    ┆ …          ┆ …                   │\n",
       "│ chiselo01 ┆ 2017   ┆ AL   ┆ OF  ┆ … ┆ null    ┆ null ┆ null       ┆ Training            │\n",
       "│ germado01 ┆ 2022   ┆ AL   ┆ P   ┆ … ┆ null    ┆ null ┆ null       ┆ Training            │\n",
       "│ montafr01 ┆ 2022   ┆ AL   ┆ P   ┆ … ┆ null    ┆ null ┆ null       ┆ Training            │\n",
       "│ dietrde01 ┆ 2017   ┆ NL   ┆ 2B  ┆ … ┆ null    ┆ null ┆ null       ┆ Training            │\n",
       "│ fieldth01 ┆ 2013   ┆ AL   ┆ SS  ┆ … ┆ null    ┆ null ┆ null       ┆ Training            │\n",
       "└───────────┴────────┴──────┴─────┴───┴─────────┴──────┴────────────┴─────────────────────┘"
      ]
     },
     "execution_count": 108,
     "metadata": {},
     "output_type": "execute_result"
    }
   ],
   "source": [
    "(fielding\n",
    " .join(awards, on=['playerID', 'yearID', 'lgID', 'POS'], how='left')\n",
    " .with_columns(Training_Validation = pl.when(pl.col('yearID') == 2023)\n",
    "                                       .then(pl.lit('Validation'))\n",
    "                                       .otherwise(pl.lit('Training')))\n",
    ")"
   ]
  },
  {
   "cell_type": "code",
   "execution_count": null,
   "id": "d70ffb52-d7ae-4231-b968-2c5a0714f915",
   "metadata": {},
   "outputs": [],
   "source": []
  }
 ],
 "metadata": {
  "kernelspec": {
   "display_name": "Python 3 (ipykernel)",
   "language": "python",
   "name": "python3"
  },
  "language_info": {
   "codemirror_mode": {
    "name": "ipython",
    "version": 3
   },
   "file_extension": ".py",
   "mimetype": "text/x-python",
   "name": "python",
   "nbconvert_exporter": "python",
   "pygments_lexer": "ipython3",
   "version": "3.12.5"
  }
 },
 "nbformat": 4,
 "nbformat_minor": 5
}
